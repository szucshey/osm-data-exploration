{
  "nbformat": 4,
  "nbformat_minor": 0,
  "metadata": {
    "colab": {
      "provenance": [],
      "collapsed_sections": [],
      "authorship_tag": "ABX9TyP5d54nluZYi2GGilK6+S7D",
      "include_colab_link": true
    },
    "kernelspec": {
      "name": "python3",
      "display_name": "Python 3"
    },
    "language_info": {
      "name": "python"
    }
  },
  "cells": [
    {
      "cell_type": "markdown",
      "metadata": {
        "id": "view-in-github",
        "colab_type": "text"
      },
      "source": [
        "<a href=\"https://colab.research.google.com/github/szucshey/osm-data-exploration/blob/main/census/nepszamlalas_scrap.ipynb\" target=\"_parent\"><img src=\"https://colab.research.google.com/assets/colab-badge.svg\" alt=\"Open In Colab\"/></a>"
      ]
    },
    {
      "cell_type": "code",
      "source": [
        "import csv, requests\n",
        "from bs4 import BeautifulSoup\n",
        "\n",
        "f = open(\"export.csv\", \"w\")\n",
        "\n",
        "writer = csv.writer(f)"
      ],
      "metadata": {
        "id": "aY-pYlRVdBjj"
      },
      "execution_count": null,
      "outputs": []
    },
    {
      "cell_type": "code",
      "source": [
        "url = \"https://mtatkki.ogyk.hu/nepszamlalas_adatok.php?kod=&ev=&ev2=&megye=&telepules=&nemzetiseg=&felekezet=&tipus=etnikai&keyword=&page=200&start=1\"\n",
        "page = requests.get(url)\n",
        "soup = BeautifulSoup(page.content, \"html.parser\")\n",
        "\n",
        "header = soup.find(\"thead\").find_all(\"td\")\n",
        "cells = []\n",
        "for cell in header:\n",
        "  cells.append(cell.text)\n",
        "writer.writerow(cells)\n",
        "\n",
        "for i in range(1, 426):\n",
        "  url = \"https://mtatkki.ogyk.hu/nepszamlalas_adatok.php?kod=&ev=&ev2=&megye=&telepules=&nemzetiseg=&felekezet=&tipus=etnikai&keyword=&page=200&start={0}\".format((i*200)+1-200)\n",
        "  page = requests.get(url)\n",
        "  soup = BeautifulSoup(page.content, \"html.parser\")\n",
        "\n",
        "  row = soup.find(\"tbody\").find_all(\"tr\")\n",
        "  for row in soup.find(\"tbody\").find_all(\"tr\"):\n",
        "    cells = row.find_all(\"td\")\n",
        "    rowcontent = []\n",
        "    for cell in cells:\n",
        "      rowcontent.append(cell.text)\n",
        "    writer.writerow(rowcontent)\n",
        "\n",
        "f.close()"
      ],
      "metadata": {
        "id": "9L48M1M5zaqF"
      },
      "execution_count": null,
      "outputs": []
    }
  ]
}