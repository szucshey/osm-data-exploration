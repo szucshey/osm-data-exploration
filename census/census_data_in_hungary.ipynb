{
  "cells": [
    {
      "cell_type": "markdown",
      "metadata": {
        "colab_type": "text",
        "id": "view-in-github"
      },
      "source": [
        "<a href=\"https://colab.research.google.com/github/szucshey/osm-data-exploration/blob/main/census/census_data_in_hungary.ipynb\" target=\"_parent\"><img src=\"https://colab.research.google.com/assets/colab-badge.svg\" alt=\"Open In Colab\"/></a>"
      ]
    },
    {
      "cell_type": "code",
      "execution_count": null,
      "metadata": {
        "colab": {
          "base_uri": "https://localhost:8080/"
        },
        "id": "aAKWO6_dkbGG",
        "outputId": "7021783d-9688-4424-94aa-64e8d97efba7"
      },
      "outputs": [
        {
          "ename": "",
          "evalue": "",
          "output_type": "error",
          "traceback": [
            "\u001b[1;31mRunning cells with 'Python 3.9.6 64-bit (system)' requires ipykernel package.\n",
            "\u001b[1;31mRun the following command to install 'ipykernel' into the Python environment. \n",
            "\u001b[1;31mCommand: 'c:/msys64/mingw64/bin/python.exe -m pip install ipykernel -U --user --force-reinstall'"
          ]
        }
      ],
      "source": [
        "!pip install folium osm2geojson geopandas\n"
      ]
    },
    {
      "cell_type": "code",
      "execution_count": null,
      "metadata": {
        "id": "8ybHBNnwoMfa"
      },
      "outputs": [
        {
          "ename": "",
          "evalue": "",
          "output_type": "error",
          "traceback": [
            "\u001b[1;31mRunning cells with 'Python 3.9.6 64-bit (system)' requires ipykernel package.\n",
            "\u001b[1;31mRun the following command to install 'ipykernel' into the Python environment. \n",
            "\u001b[1;31mCommand: 'c:/msys64/mingw64/bin/python.exe -m pip install ipykernel -U --user --force-reinstall'"
          ]
        }
      ],
      "source": [
        "import requests\n",
        "import json\n",
        "#Magyarország településhatárainak, megyehatárainak, a főváros kerületeinek határainak lekérése az OSM API-n keresztül\n",
        "overpass_url = \"http://overpass-api.de/api/interpreter\"\n",
        "overpass_query = \"\"\"\n",
        "    [out:json];\n",
        "    rel[\"wikipedia\"~\"^hu:\"]\n",
        "    [admin_level=8]\n",
        "    [type=boundary]\n",
        "    [name!~\"Balatonakarattya\"]\n",
        "    [boundary=administrative];\n",
        "    out geom;\n",
        "\n",
        "    rel[\"wikipedia\"~\"^hu:\"]\n",
        "    [admin_level=9]\n",
        "    [type=boundary]\n",
        "    [boundary=administrative];\n",
        "  \tout geom;\n",
        "    \"\"\"\n",
        "\n",
        "response = requests.get(overpass_url, params={'data': overpass_query})\n",
        "\n",
        "#Az API válasz lementése egy json fileba\n",
        "output = open(\"towns.json\", \"w\")\n",
        "json.dump(response.json(), output)\n",
        "output.close()\n",
        "\n",
        "######################################################################################################################\n",
        "\n",
        "overpass_query = \"\"\"\n",
        "    [out:json];\n",
        "    rel[\"ISO3166-2\"~\"^HU\"]\n",
        "    [admin_level=6]\n",
        "    [type=boundary]\n",
        "    [boundary=administrative];\n",
        "    out geom;\n",
        "    \n",
        "    rel[\"ISO3166-1\"~\"^HU\"]\n",
        "    [admin_level=2]\n",
        "    [type=boundary]\n",
        "    [boundary=administrative];\n",
        "    out geom;\n",
        "    \"\"\"\n",
        "\n",
        "response = requests.get(overpass_url, params={'data': overpass_query})\n",
        "\n",
        "#Az API válasz lementése egy json fileba\n",
        "output = open(\"states.json\", \"w\")\n",
        "json.dump(response.json(), output)\n",
        "output.close()"
      ]
    },
    {
      "cell_type": "code",
      "execution_count": null,
      "metadata": {},
      "outputs": [],
      "source": [
        "import pandas as pd\n",
        "\n",
        "df = pd.read_csv(\"data_filtered.csv\", delimiter=\";\")\n",
        "\n",
        "nemzetisegek = [\"Német\", \"Szlovák\", \"Román\", \"Horvát\", \"Szerb\", \"Ukrán\", \"Szlovén\", \"Roma\", \"Egyéb\"]\n",
        "color_codes = [\"#FFF712\", \"#09EC8E\", \"#D57C1E\", \"#D57C1E\", \"#DC1111\", \"#0BF7FF\", \"#FF74E8\", \"#A2059D\", \"#1E9111\"]\n",
        "ev = 2011"
      ]
    },
    {
      "cell_type": "code",
      "execution_count": null,
      "metadata": {
        "id": "AaWVeejvBkv7"
      },
      "outputs": [
        {
          "ename": "",
          "evalue": "",
          "output_type": "error",
          "traceback": [
            "\u001b[1;31mRunning cells with 'Python 3.9.6 64-bit (system)' requires ipykernel package.\n",
            "\u001b[1;31mRun the following command to install 'ipykernel' into the Python environment. \n",
            "\u001b[1;31mCommand: 'c:/msys64/mingw64/bin/python.exe -m pip install ipykernel -U --user --force-reinstall'"
          ]
        }
      ],
      "source": [
        "from shapely import geometry\n",
        "import random"
      ]
    },
    {
      "cell_type": "code",
      "execution_count": null,
      "metadata": {},
      "outputs": [],
      "source": [
        "import folium\n",
        "import osm2geojson\n",
        "\n",
        "\n",
        "fgs = [folium.FeatureGroup(name=\"<span style=\\\"color:#FFF712\\\">Németek</span>\", overlay=False, control=True, show=False), \n",
        "       folium.FeatureGroup(name=\"<span style=\\\"color:#09EC8E\\\">Szlovákok</span>\", overlay=False, control=True, show=False),\n",
        "       folium.FeatureGroup(name=\"<span style=\\\"color:#D57C1E\\\">Románok</span>\", overlay=False, control=True, show=False),\n",
        "       folium.FeatureGroup(name=\"<span style=\\\"color:#000785\\\">Horvátok</span>\", overlay=False, control=True, show=False),\n",
        "       folium.FeatureGroup(name=\"<span style=\\\"color:#DC1111\\\">Szerbek</span>\", overlay=False, control=True, show=False),\n",
        "       folium.FeatureGroup(name=\"<span style=\\\"color:#0BF7FF\\\">Ukránok</span>\", overlay=False, control=True, show=False),\n",
        "       folium.FeatureGroup(name=\"<span style=\\\"color:#FF74E8\\\">Szlovének</span>\", overlay=False, control=True, show=False),\n",
        "       folium.FeatureGroup(name=\"<span style=\\\"color:#A2059D\\\">Romák</span>\", overlay=False, control=True, show=False),\n",
        "       folium.FeatureGroup(name=\"<span style=\\\"color:#1E9111\\\">Egyéb nemzetiségek</span>\", overlay=False, control=True, show=False)]\n",
        "\n",
        "styles_state_borders = [lambda x: {'fillColor': '#000000', 'fillOpacity': 0.0, 'stroke': True, 'color': \"#FFF712\", 'weight': 1},\n",
        "         lambda x: {'fillColor': '#000000', 'fillOpacity': 0.0, 'stroke': True, 'color': \"#09EC8E\", 'weight': 1},\n",
        "         lambda x: {'fillColor': '#000000', 'fillOpacity': 0.0, 'stroke': True, 'color': \"#D57C1E\", 'weight': 1},\n",
        "         lambda x: {'fillColor': '#000000', 'fillOpacity': 0.0, 'stroke': True, 'color': \"#000785\", 'weight': 1},\n",
        "         lambda x: {'fillColor': '#000000', 'fillOpacity': 0.0, 'stroke': True, 'color': \"#DC1111\", 'weight': 1},\n",
        "         lambda x: {'fillColor': '#000000', 'fillOpacity': 0.0, 'stroke': True, 'color': \"#0BF7FF\", 'weight': 1},\n",
        "         lambda x: {'fillColor': '#000000', 'fillOpacity': 0.0, 'stroke': True, 'color': \"#FF74E8\", 'weight': 1},\n",
        "         lambda x: {'fillColor': '#000000', 'fillOpacity': 0.0, 'stroke': True, 'color': \"#A2059D\", 'weight': 1},\n",
        "         lambda x: {'fillColor': '#000000', 'fillOpacity': 0.0, 'stroke': True, 'color': \"#1E9111\", 'weight': 1}]\n",
        "\n",
        "styles_town_borders = [lambda x: {'fillColor': '#000000', 'fillOpacity': 0.0, 'stroke': True, 'color': \"#FFF712\", 'weight': 0.3},\n",
        "         lambda x: {'fillColor': '#000000', 'fillOpacity': 0.0, 'stroke': True, 'color': \"#09EC8E\", 'weight': 0.3},\n",
        "         lambda x: {'fillColor': '#000000', 'fillOpacity': 0.0, 'stroke': True, 'color': \"#D57C1E\", 'weight': 0.3},\n",
        "         lambda x: {'fillColor': '#000000', 'fillOpacity': 0.0, 'stroke': True, 'color': \"#000785\", 'weight': 0.3},\n",
        "         lambda x: {'fillColor': '#000000', 'fillOpacity': 0.0, 'stroke': True, 'color': \"#DC1111\", 'weight': 0.3},\n",
        "         lambda x: {'fillColor': '#000000', 'fillOpacity': 0.0, 'stroke': True, 'color': \"#0BF7FF\", 'weight': 0.3},\n",
        "         lambda x: {'fillColor': '#000000', 'fillOpacity': 0.0, 'stroke': True, 'color': \"#FF74E8\", 'weight': 0.3},\n",
        "         lambda x: {'fillColor': '#000000', 'fillOpacity': 0.0, 'stroke': True, 'color': \"#A2059D\", 'weight': 0.3},\n",
        "         lambda x: {'fillColor': '#000000', 'fillOpacity': 0.0, 'stroke': True, 'color': \"#1E9111\", 'weight': 0.3}]\n",
        "#A térkép létrehozása foliumban, kezdeti koordináták, zoom-lehetőségek, térképvászon megadása, az attribútum kötelező külső vászon használata esetén\n",
        "m = folium.Map(location=[47.161, 19.505], zoom_start=7, min_zoom=7, maxBounds=[[40.000, 10.000], [60.000, 30.000]], tiles=None, attr=\"-\", prefer_canvas=True, overlay=True)\n",
        "#https://{s}.basemaps.cartocdn.com/dark_nolabels/{z}/{x}/{y}{r}.png\n",
        "style_function = lambda x: {'fillColor': '#000000', 'fillOpacity': 0.0, 'opacity': 0.2, 'stroke': True, 'color': \"#fff\", 'weight': 1}\n",
        "data = json.load(open(\"states.json\", \"r\"))\n",
        "geojson_states = osm2geojson.json2geojson(data)\n",
        "\n",
        "g1 = folium.GeoJson(geojson_states, name='base_states', style_function=style_function, smooth_factor=2.0, control=True, overlay=True, show=True)\n",
        "m.add_child(g1)\n",
        "\n",
        "style_function = lambda x: {'fillColor': '#000000', 'fillOpacity': 0.0, 'opacity': 0.2, 'stroke': True, 'color': \"#fff\", 'weight': 0.3}\n",
        "#A korábban kapott json fájl geojson formátumba való átalakítása\n",
        "data = json.load(open(\"towns.json\", \"r\"))\n",
        "geojson_towns = osm2geojson.json2geojson(data)\n",
        "\n",
        "g = folium.GeoJson(geojson_towns, name='base_towns', style_function=style_function, smooth_factor=2.0, control=True, overlay=True, show=True)\n",
        "m.add_child(g)\n"
      ]
    },
    {
      "cell_type": "code",
      "execution_count": null,
      "metadata": {
        "id": "ln_DK3lPF_Eh"
      },
      "outputs": [
        {
          "ename": "",
          "evalue": "",
          "output_type": "error",
          "traceback": [
            "\u001b[1;31mRunning cells with 'Python 3.9.6 64-bit (system)' requires ipykernel package.\n",
            "\u001b[1;31mRun the following command to install 'ipykernel' into the Python environment. \n",
            "\u001b[1;31mCommand: 'c:/msys64/mingw64/bin/python.exe -m pip install ipykernel -U --user --force-reinstall'"
          ]
        }
      ],
      "source": [
        "def get_random_point_in_polygon(poly):\n",
        "  \n",
        "  minx, miny, maxx, maxy = poly.bounds\n",
        "  while True:\n",
        "       p = geometry.Point(random.uniform(minx, maxx), random.uniform(miny, maxy))\n",
        "       if poly.contains(p):\n",
        "          return p"
      ]
    },
    {
      "cell_type": "code",
      "execution_count": 11,
      "metadata": {
        "colab": {
          "base_uri": "https://localhost:8080/"
        },
        "id": "UlqlQESxHkaC",
        "outputId": "cca119f4-6375-43f4-f132-78efe057ecd5"
      },
      "outputs": [
        {
          "name": "stderr",
          "output_type": "stream",
          "text": [
            "/usr/local/lib/python3.7/dist-packages/ipykernel_launcher.py:4: UserWarning: Boolean Series key will be reindexed to match DataFrame index.\n",
            "  after removing the cwd from sys.path.\n"
          ]
        },
        {
          "name": "stdout",
          "output_type": "stream",
          "text": [
            "Óbánya Series([], Name: Német, dtype: int64)\n",
            "XXIII. kerület Series([], Name: Német, dtype: int64)\n",
            "Óbánya Series([], Name: Szlovák, dtype: int64)\n",
            "XXIII. kerület Series([], Name: Szlovák, dtype: int64)\n",
            "Óbánya Series([], Name: Román, dtype: int64)\n",
            "XXIII. kerület Series([], Name: Román, dtype: int64)\n",
            "Óbánya Series([], Name: Horvát, dtype: int64)\n",
            "XXIII. kerület Series([], Name: Horvát, dtype: int64)\n",
            "Óbánya Series([], Name: Szerb, dtype: int64)\n",
            "XXIII. kerület Series([], Name: Szerb, dtype: int64)\n",
            "Óbánya Series([], Name: Ukrán, dtype: int64)\n",
            "XXIII. kerület Series([], Name: Ukrán, dtype: int64)\n",
            "Óbánya Series([], Name: Szlovén, dtype: int64)\n",
            "XXIII. kerület Series([], Name: Szlovén, dtype: int64)\n",
            "Óbánya Series([], Name: Roma, dtype: int64)\n",
            "XXIII. kerület Series([], Name: Roma, dtype: int64)\n"
          ]
        }
      ],
      "source": [
        "layers = folium.LayerControl(position='bottomleft')\n",
        "\n",
        "for n in range(8):\n",
        "    nemzetiseg = nemzetisegek[n]\n",
        "    df2 = df[df[\"Év\"] == ev][df[\"Kategória\"] == \"A-N-H-K\"][[\"Település\", nemzetiseg]]\n",
        "    fill = color_codes[n]\n",
        "    fgs[n].add_child(folium.GeoJson(geojson_states, name='states_colored', style_function=styles_town_borders[n], smooth_factor=2.0, control=False))\n",
        "    fgs[n].add_child(folium.GeoJson(geojson_towns, name='towns_colored', style_function=styles_town_borders[n], smooth_factor=2.0, control=False))\n",
        "    for i in range(len(geojson_towns['features'])):\n",
        "        poly = geometry.Polygon([[coord[0], coord[1]] for coord in geojson_towns['features'][i]['geometry']['coordinates'][0][0]]) \n",
        "  \n",
        "        #adott megyén belül minden x (representation) főre generálódik egy pont\n",
        "        #representation = 1000\n",
        "        try:\n",
        "            #if geojson['features'][i]['properties']['tags']['name'] in df['Település'].values:\n",
        "            geojson_towns['features'][i]['properties']['popup'] = \"<b>{0}</b>\".format(geojson_towns['features'][i]['properties']['tags']['name']) + \": {0}\".format(int(df2[df2[\"Település\"] == geojson_towns['features'][i]['properties']['tags']['name']][nemzetiseg]))\n",
        "            list(fgs[n]._children.values())[1].add_child(folium.features.GeoJsonTooltip(['popup'], labels=False))\n",
        "            #fgs[n].geojson.add_child(folium.features.GeoJsonTooltip(['popup'], labels=False))\n",
        "            \n",
        "            for j in range(int(df2[df2[\"Település\"] == geojson_towns['features'][i]['properties']['tags']['name']][nemzetiseg])): #// representation):\n",
        "                point = get_random_point_in_polygon(poly)\n",
        "                fgs[n].add_child(folium.Circle(location=[point.y, point.x], radius=10, fill_color=fill, fill_opacity=1.0, opacity=0.0))\n",
        "        except:\n",
        "            print(geojson_towns['features'][i]['properties']['tags']['name'], df2[df2[\"Település\"] == geojson_towns['features'][i]['properties']['tags']['name']][nemzetiseg])\n",
        "    \n",
        "    m.add_child(fgs[n])\n",
        "\n",
        "m.add_child(layers)\n",
        "\n",
        "#css_modify = \"<style>.leaflet-container {background: #080808}</style>\"\n",
        "#m.get_root().html.add_child(folium.Element(css_modify))\n",
        "\n",
        "m.save(outfile=\"map.html\")"
      ]
    },
    {
      "cell_type": "code",
      "execution_count": 12,
      "metadata": {
        "colab": {
          "base_uri": "https://localhost:8080/",
          "height": 17
        },
        "id": "qQUeS2j0VY47",
        "outputId": "25a8070e-ad63-49af-a0d8-bcc6379197ab"
      },
      "outputs": [
        {
          "data": {
            "application/javascript": "\n    async function download(id, filename, size) {\n      if (!google.colab.kernel.accessAllowed) {\n        return;\n      }\n      const div = document.createElement('div');\n      const label = document.createElement('label');\n      label.textContent = `Downloading \"${filename}\": `;\n      div.appendChild(label);\n      const progress = document.createElement('progress');\n      progress.max = size;\n      div.appendChild(progress);\n      document.body.appendChild(div);\n\n      const buffers = [];\n      let downloaded = 0;\n\n      const channel = await google.colab.kernel.comms.open(id);\n      // Send a message to notify the kernel that we're ready.\n      channel.send({})\n\n      for await (const message of channel.messages) {\n        // Send a message to notify the kernel that we're ready.\n        channel.send({})\n        if (message.buffers) {\n          for (const buffer of message.buffers) {\n            buffers.push(buffer);\n            downloaded += buffer.byteLength;\n            progress.value = downloaded;\n          }\n        }\n      }\n      const blob = new Blob(buffers, {type: 'application/binary'});\n      const a = document.createElement('a');\n      a.href = window.URL.createObjectURL(blob);\n      a.download = filename;\n      div.appendChild(a);\n      a.click();\n      div.remove();\n    }\n  ",
            "text/plain": [
              "<IPython.core.display.Javascript object>"
            ]
          },
          "metadata": {},
          "output_type": "display_data"
        },
        {
          "data": {
            "application/javascript": "download(\"download_e499ef37-be4a-44d4-82fd-2cfb048e7ec9\", \"map.html\", 688445453)",
            "text/plain": [
              "<IPython.core.display.Javascript object>"
            ]
          },
          "metadata": {},
          "output_type": "display_data"
        }
      ],
      "source": [
        "from google.colab import files\n",
        "files.download('map.html') "
      ]
    }
  ],
  "metadata": {
    "colab": {
      "authorship_tag": "ABX9TyODJxdGGx9d/rJTdXOkLMws",
      "collapsed_sections": [],
      "include_colab_link": true,
      "name": "census_data_in_hungary.ipynb",
      "provenance": []
    },
    "kernelspec": {
      "display_name": "Python 3.9.6 64-bit (system)",
      "language": "python",
      "name": "python3"
    },
    "language_info": {
      "name": "python",
      "version": "3.9.6"
    },
    "vscode": {
      "interpreter": {
        "hash": "2a8dfe095fce2b5e88c64a2c3ee084c8e0e0d70b23e7b95b1cfb538be294c5c8"
      }
    }
  },
  "nbformat": 4,
  "nbformat_minor": 0
}
