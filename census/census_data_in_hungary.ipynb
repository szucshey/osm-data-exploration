{
 "cells": [
  {
   "cell_type": "markdown",
   "metadata": {
    "colab_type": "text",
    "id": "view-in-github"
   },
   "source": [
    "<a href=\"https://colab.research.google.com/github/szucshey/osm-data-exploration/blob/main/census/census_data_in_hungary.ipynb\" target=\"_parent\"><img src=\"https://colab.research.google.com/assets/colab-badge.svg\" alt=\"Open In Colab\"/></a>"
   ]
  },
  {
   "cell_type": "code",
   "execution_count": 1,
   "metadata": {
    "colab": {
     "base_uri": "https://localhost:8080/"
    },
    "id": "i_I499QbBY2q",
    "outputId": "b70f4854-0bd6-48f0-a820-ff2ec4d184a9"
   },
   "outputs": [
    {
     "name": "stdout",
     "output_type": "stream",
     "text": [
      "Requirement already satisfied: folium in /home/szucshey/.local/lib/python3.8/site-packages (0.12.1.post1)\r\n",
      "Requirement already satisfied: osm2geojson in /home/szucshey/.local/lib/python3.8/site-packages (0.2.0)\r\n",
      "Requirement already satisfied: requests in /usr/lib/python3/dist-packages (from folium) (2.22.0)\r\n",
      "Requirement already satisfied: numpy in /home/szucshey/.local/lib/python3.8/site-packages (from folium) (1.23.2)\r\n",
      "Requirement already satisfied: jinja2>=2.9 in /home/szucshey/.local/lib/python3.8/site-packages (from folium) (3.1.2)\r\n",
      "Requirement already satisfied: branca>=0.3.0 in /home/szucshey/.local/lib/python3.8/site-packages (from folium) (0.5.0)\r\n",
      "Requirement already satisfied: shapely in /home/szucshey/.local/lib/python3.8/site-packages (from osm2geojson) (1.8.4)\r\n",
      "Requirement already satisfied: MarkupSafe>=2.0 in /home/szucshey/.local/lib/python3.8/site-packages (from jinja2>=2.9->folium) (2.1.1)\r\n"
     ]
    }
   ],
   "source": [
    "!pip install folium osm2geojson"
   ]
  },
  {
   "cell_type": "code",
   "execution_count": 2,
   "metadata": {
    "id": "sDcBMVPvBW91"
   },
   "outputs": [
    {
     "name": "stderr",
     "output_type": "stream",
     "text": [
      "/usr/lib/python3/dist-packages/requests/__init__.py:89: RequestsDependencyWarning: urllib3 (1.26.12) or chardet (3.0.4) doesn't match a supported version!\n",
      "  warnings.warn(\"urllib3 ({}) or chardet ({}) doesn't match a supported \"\n"
     ]
    }
   ],
   "source": [
    "import folium\n",
    "import requests\n",
    "import json\n",
    "import pandas as pd\n",
    "from shapely import geometry\n",
    "import random\n",
    "import osm2geojson"
   ]
  },
  {
   "cell_type": "code",
   "execution_count": 3,
   "metadata": {
    "id": "8ybHBNnwoMfa"
   },
   "outputs": [],
   "source": [
    "#Magyarország településhatárainak, megyehatárainak, a főváros kerületeinek határainak lekérése az OSM API-n keresztül\n",
    "\n",
    "#Elsőként a településhatárok (admin_level=8), kivéve:\n",
    "#   -Balatonakarattyát, mert 2014-ben vált csak önálló településsé\n",
    "#   -Budapestet, mert a területét a kerületek (admin_level=9)  már egyszer lefedik\n",
    "overpass_url = \"http://overpass-api.de/api/interpreter\"\n",
    "overpass_query = \"\"\"\n",
    "    [out:json];\n",
    "    rel[\"wikipedia\"~\"^hu:\"]\n",
    "    [admin_level=8]\n",
    "    [type=boundary]\n",
    "    [name!~\"Balatonakarattya\"]\n",
    "    [name!=\"Budapest\"]\n",
    "    [boundary=administrative];\n",
    "\n",
    "    out geom;\n",
    "    rel[\"wikipedia\"~\"^hu:\"]\n",
    "    [admin_level=9]\n",
    "    [type=boundary]\n",
    "    [boundary=administrative];\n",
    "    out geom;\n",
    "    \"\"\"\n",
    "\n",
    "response = requests.get(overpass_url, params={'data': overpass_query})\n",
    "\n",
    "#Az API válasz lementése egy json fileba\n",
    "output = open(\"towns.json\", \"w\")\n",
    "json.dump(response.json(), output)\n",
    "output.close()\n",
    "\n",
    "######################################################################################################################\n",
    "#Végül a megyehatárok (admin_level=6) + az országhatár (admin_level=2), a megjelenítés stílusának kialakítása miatt kérjük le ezeket is\n",
    "overpass_query = \"\"\"\n",
    "    [out:json];\n",
    "    rel[\"ISO3166-2\"~\"^HU\"]\n",
    "    [admin_level=6]\n",
    "    [type=boundary]\n",
    "    [boundary=administrative];\n",
    "    out geom;\n",
    "    \n",
    "    rel[\"ISO3166-1\"~\"^HU\"]\n",
    "    [admin_level=2]\n",
    "    [type=boundary]\n",
    "    [boundary=administrative];\n",
    "    out geom;\n",
    "    \"\"\"\n",
    "\n",
    "response = requests.get(overpass_url, params={'data': overpass_query})\n",
    "\n",
    "#Az API válasz lementése egy json fileba\n",
    "output = open(\"counties.json\", \"w\")\n",
    "json.dump(response.json(), output)\n",
    "output.close()"
   ]
  },
  {
   "cell_type": "code",
   "execution_count": 4,
   "metadata": {
    "id": "cZ2wi_xXBW95"
   },
   "outputs": [],
   "source": [
    "df = pd.read_csv(\"data.csv\", delimiter=\";\")\n",
    "#A népszámlálások lehetséges évszámai, az egyes években eltérő módon kategorizálták a nemzetiségieket, ezért van az évszámokhoz egy-egy kategória is rendelve\n",
    "#   https://mtatkki.ogyk.hu/nepszamlalas_leiras.php\n",
    "\n",
    "ev_kategoria = [[1880, \"A\"], [1890, \"A\"], [1900, \"A\"], [1910, \"A\"], [1920, \"A\"], [1930, \"A\"], [1941, \"N\"], [1949, \"N\"], [1960, \"N\"], [1980, \"N\"], [1990, \"N\"], [2001, \"A-N-H-K\"], [2011, \"A-N-H-K\"]]\n",
    "nemzetisegek, fgs, styles_county_borders, styles_town_borders = [], [], [], []\n",
    "color_codes = [\"#FFF712\", \"#09EC8E\", \"#D57C1E\", \"#1C24BA\", \"#DC1111\", \"#0BF7FF\", \"#FF74E8\", \"#A2059D\", \"#61BD00\"]\n",
    "\n",
    "############################################\n",
    "#A tömb azon eleme, amelyik év adatait szeretnénk megjeleníteni\n",
    "year = 11\n",
    "############################################\n",
    "\n",
    "df = df[(df[\"Év\"] == ev_kategoria[year][0]) & (df[\"Kategória\"] == ev_kategoria[year][1]) & (df[\"Mai terület\"] == \"#\") & (df[\"Település\"] != \"Budapest\")]\n",
    "\n",
    "colors_added = 0\n",
    "#Az egyes nemzetiségek számbavétele is népszámlálásonként eltért, úgyhogy mindig csak az adott évben számlált nemzetiségeket vesszük figyelembe\n",
    "for i in range(9, len(df.columns)-4):\n",
    "    if df[df.columns[i]].values.sum() > 0:\n",
    "        nemzetisegek.append(df.columns[i])\n",
    "        fgs.append(folium.FeatureGroup(name=\"<span style=\\\"font-size: 20px; color: {0}; text-shadow: -1px 0 black, 0 1px black, 1px 0 black, 0 -1px black;\\\">{1}</span>\".format(color_codes[colors_added], df.columns[i]), overlay=False, control=True, show=False))\n",
    "        colors_added += 1\n",
    "        \n",
    "styles_county_borders = [lambda x: {'fillColor': '#000000', 'fillOpacity': 0.0, 'stroke': True, 'color': \"#FFF712\", 'weight': 1.5},\n",
    "         lambda x: {'fillColor': '#000000', 'fillOpacity': 0.0, 'stroke': True, 'color': \"#09EC8E\", 'weight': 1.5},\n",
    "         lambda x: {'fillColor': '#000000', 'fillOpacity': 0.0, 'stroke': True, 'color': \"#D57C1E\", 'weight': 1.5},\n",
    "         lambda x: {'fillColor': '#000000', 'fillOpacity': 0.0, 'stroke': True, 'color': \"#1C24BA\", 'weight': 1.5},\n",
    "         lambda x: {'fillColor': '#000000', 'fillOpacity': 0.0, 'stroke': True, 'color': \"#DC1111\", 'weight': 1.5},\n",
    "         lambda x: {'fillColor': '#000000', 'fillOpacity': 0.0, 'stroke': True, 'color': \"#0BF7FF\", 'weight': 1.5},\n",
    "         lambda x: {'fillColor': '#000000', 'fillOpacity': 0.0, 'stroke': True, 'color': \"#FF74E8\", 'weight': 1.5},\n",
    "         lambda x: {'fillColor': '#000000', 'fillOpacity': 0.0, 'stroke': True, 'color': \"#A2059D\", 'weight': 1.5},\n",
    "         lambda x: {'fillColor': '#000000', 'fillOpacity': 0.0, 'stroke': True, 'color': \"#61BD00\", 'weight': 1.5}]\n",
    "\n",
    "styles_town_borders = [lambda x: {'fillColor': '#000000', 'fillOpacity': 0.0, 'stroke': True, 'color': \"#FFF712\", 'weight': 0.5},\n",
    "         lambda x: {'fillColor': '#000000', 'fillOpacity': 0.0, 'stroke': True, 'color': \"#09EC8E\", 'weight': 0.5},\n",
    "         lambda x: {'fillColor': '#000000', 'fillOpacity': 0.0, 'stroke': True, 'color': \"#D57C1E\", 'weight': 0.5},\n",
    "         lambda x: {'fillColor': '#000000', 'fillOpacity': 0.0, 'stroke': True, 'color': \"#1C24BA\", 'weight': 0.5},\n",
    "         lambda x: {'fillColor': '#000000', 'fillOpacity': 0.0, 'stroke': True, 'color': \"#DC1111\", 'weight': 0.5},\n",
    "         lambda x: {'fillColor': '#000000', 'fillOpacity': 0.0, 'stroke': True, 'color': \"#0BF7FF\", 'weight': 0.5},\n",
    "         lambda x: {'fillColor': '#000000', 'fillOpacity': 0.0, 'stroke': True, 'color': \"#FF74E8\", 'weight': 0.5},\n",
    "         lambda x: {'fillColor': '#000000', 'fillOpacity': 0.0, 'stroke': True, 'color': \"#A2059D\", 'weight': 0.5},\n",
    "         lambda x: {'fillColor': '#000000', 'fillOpacity': 0.0, 'stroke': True, 'color': \"#61BD00\", 'weight': 0.5}]\n"
   ]
  },
  {
   "cell_type": "code",
   "execution_count": 5,
   "metadata": {
    "colab": {
     "base_uri": "https://localhost:8080/"
    },
    "id": "AaWVeejvBkv7",
    "outputId": "2327e61a-7a17-4113-b16d-829b0e4590de"
   },
   "outputs": [
    {
     "name": "stderr",
     "output_type": "stream",
     "text": [
      "/home/szucshey/.local/lib/python3.8/site-packages/osm2geojson/main.py:514: ShapelyDeprecationWarning: Iteration over multi-part geometries is deprecated and will be removed in Shapely 2.0. Use the `geoms` property to access the constituent parts of a multi-part geometry.\n",
      "  for line in merged_line:\n"
     ]
    }
   ],
   "source": [
    "#A térkép létrehozása foliumban, kezdeti koordináták, zoom-lehetőségek, térképvászon megadása, az attribútum kötelező külső vászon használata esetén\n",
    "m = folium.Map(location=[47.161, 19.505], zoom_start=8, min_zoom=7, maxBounds=[[40.000, 10.000], [60.000, 30.000]], tiles=None, attr=\"\", prefer_canvas=True, overlay=True)\n",
    "#https://{s}.basemaps.cartocdn.com/dark_nolabels/{z}/{x}/{y}{r}.\n",
    "\n",
    "\n",
    "style_function = lambda x: {'fillColor': '#000000', 'fillOpacity': 0.0, 'opacity': 0.2, 'stroke': True, 'color': \"#fff\", 'weight': 1}\n",
    "data = json.load(open(\"counties.json\", \"r\"))\n",
    "geojson_counties = osm2geojson.json2geojson(data)\n",
    "\n",
    "style_function = lambda x: {'fillColor': '#000000', 'fillOpacity': 0.0, 'opacity': 0.2, 'stroke': True, 'color': \"#fff\", 'weight': 0.3}\n",
    "data = json.load(open(\"towns.json\", \"r\"))\n",
    "geojson_towns = osm2geojson.json2geojson(data)\n"
   ]
  },
  {
   "cell_type": "code",
   "execution_count": 6,
   "metadata": {
    "id": "ILqC6xzSBW98"
   },
   "outputs": [],
   "source": [
    "#Alakzaton belüli pont generálás\n",
    "def get_random_point_in_polygon(poly):\n",
    "  \n",
    "  minx, miny, maxx, maxy = poly.bounds\n",
    "  while True:\n",
    "       p = geometry.Point(random.uniform(minx, maxx), random.uniform(miny, maxy))\n",
    "       if poly.contains(p):\n",
    "          return p"
   ]
  },
  {
   "cell_type": "code",
   "execution_count": 7,
   "metadata": {
    "id": "ln_DK3lPF_Eh"
   },
   "outputs": [],
   "source": [
    "layers = folium.LayerControl(position='bottomleft')\n",
    "\n",
    "#adott megyén belül minden x (representation) főre generálódik egy pont\n",
    "representation = 1\n",
    "\n",
    "for n in range(len(nemzetisegek)):\n",
    "    \n",
    "    #nemzetiségenként a megfelelő paraméterek beállítása\n",
    "    nemzetiseg = nemzetisegek[n]  \n",
    "    df2 = df[[\"Település\", nemzetiseg]]\n",
    "    fill = color_codes[n]\n",
    "    fgs[n].add_child(folium.GeoJson(geojson_counties, name='counties_colored', style_function=styles_county_borders[n], smooth_factor=2.0, control=False))\n",
    "    fgs[n].add_child(folium.GeoJson(geojson_towns, name='towns_colored', style_function=styles_town_borders[n], smooth_factor=2.0, control=False)) \n",
    "    \n",
    "    #minden településen belül annyi pontot generálunk, ahányan az adott nemzetiséghez tartozónak vallották magukat\n",
    "    for i in range(len(geojson_towns['features'])):\n",
    "        poly = geometry.Polygon([[coord[0], coord[1]] for coord in geojson_towns['features'][i]['geometry']['coordinates'][0][0]]) \n",
    "        \n",
    "        try:\n",
    "            if geojson_towns['features'][i]['properties']['tags']['name'] in df2['Település'].values:\n",
    "                geojson_towns['features'][i]['properties']['popup{0}'.format(n)] = \"<b>{0}</b>\".format(geojson_towns['features'][i]['properties']['tags']['name']) + \": {0}\".format(int(df2[df2[\"Település\"] == geojson_towns['features'][i]['properties']['tags']['name']][nemzetiseg]))\n",
    "                list(fgs[n]._children.values())[1].add_child(folium.features.GeoJsonTooltip(['popup{0}'.format(n)], labels=False, sticky=False))\n",
    "                \n",
    "                for j in range(int(df2[df2[\"Település\"] == geojson_towns['features'][i]['properties']['tags']['name']][nemzetiseg]) // representation):\n",
    "                    point = get_random_point_in_polygon(poly)\n",
    "                    fgs[n].add_child(folium.Circle(location=[point.y, point.x], radius=5, fill_color=fill, fill_opacity=1.0, opacity=0.0, interactive=False))\n",
    "                \n",
    "            else:\n",
    "                geojson_towns['features'][i]['properties']['popup{0}'.format(n)] = \"<b>{0}:</b> nincs adat\".format(geojson_towns['features'][i]['properties']['tags']['name'])\n",
    "        except:\n",
    "            print(geojson_towns['features'][i]['properties']['tags']['name'],\n",
    "                df2[df2[\"Település\"] == geojson_towns['features'][i]['properties']['tags']['name']][nemzetiseg]) \n",
    "    \n",
    "    m.add_child(fgs[n])\n",
    "\n",
    "m.add_child(layers)\n",
    "\n",
    "css_modify = \"<style>.leaflet-container {background: #080808}</style>\"\n",
    "m.get_root().html.add_child(folium.Element(css_modify))\n",
    "\n",
    "m.save(outfile=\"map.html\")"
   ]
  },
  {
   "cell_type": "code",
   "execution_count": null,
   "metadata": {},
   "outputs": [],
   "source": []
  }
 ],
 "metadata": {
  "colab": {
   "collapsed_sections": [],
   "include_colab_link": true,
   "name": "census_data_in_hungary.ipynb",
   "provenance": []
  },
  "kernelspec": {
   "display_name": "Python 3 (ipykernel)",
   "language": "python",
   "name": "python3"
  },
  "language_info": {
   "codemirror_mode": {
    "name": "ipython",
    "version": 3
   },
   "file_extension": ".py",
   "mimetype": "text/x-python",
   "name": "python",
   "nbconvert_exporter": "python",
   "pygments_lexer": "ipython3",
   "version": "3.8.10"
  },
  "vscode": {
   "interpreter": {
    "hash": "2a8dfe095fce2b5e88c64a2c3ee084c8e0e0d70b23e7b95b1cfb538be294c5c8"
   }
  }
 },
 "nbformat": 4,
 "nbformat_minor": 1
}
