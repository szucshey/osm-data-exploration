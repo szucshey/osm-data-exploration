{
  "nbformat": 4,
  "nbformat_minor": 0,
  "metadata": {
    "colab": {
      "name": "census_data_in_hungary.ipynb",
      "provenance": [],
      "collapsed_sections": [],
      "authorship_tag": "ABX9TyODJxdGGx9d/rJTdXOkLMws",
      "include_colab_link": true
    },
    "kernelspec": {
      "name": "python3",
      "display_name": "Python 3"
    },
    "language_info": {
      "name": "python"
    }
  },
  "cells": [
    {
      "cell_type": "markdown",
      "metadata": {
        "id": "view-in-github",
        "colab_type": "text"
      },
      "source": [
        "<a href=\"https://colab.research.google.com/github/szucshey/osm-data-exploration/blob/main/census/census_data_in_hungary.ipynb\" target=\"_parent\"><img src=\"https://colab.research.google.com/assets/colab-badge.svg\" alt=\"Open In Colab\"/></a>"
      ]
    },
    {
      "cell_type": "code",
      "execution_count": 1,
      "metadata": {
        "colab": {
          "base_uri": "https://localhost:8080/"
        },
        "id": "aAKWO6_dkbGG",
        "outputId": "7021783d-9688-4424-94aa-64e8d97efba7"
      },
      "outputs": [
        {
          "output_type": "stream",
          "name": "stdout",
          "text": [
            "Looking in indexes: https://pypi.org/simple, https://us-python.pkg.dev/colab-wheels/public/simple/\n",
            "Requirement already satisfied: folium in /usr/local/lib/python3.7/dist-packages (0.12.1.post1)\n",
            "Collecting osm2geojson\n",
            "  Downloading osm2geojson-0.2.0.tar.gz (13 kB)\n",
            "Collecting geopandas\n",
            "  Downloading geopandas-0.10.2-py2.py3-none-any.whl (1.0 MB)\n",
            "\u001b[K     |████████████████████████████████| 1.0 MB 7.8 MB/s \n",
            "\u001b[?25hRequirement already satisfied: jinja2>=2.9 in /usr/local/lib/python3.7/dist-packages (from folium) (2.11.3)\n",
            "Requirement already satisfied: requests in /usr/local/lib/python3.7/dist-packages (from folium) (2.23.0)\n",
            "Requirement already satisfied: numpy in /usr/local/lib/python3.7/dist-packages (from folium) (1.21.6)\n",
            "Requirement already satisfied: branca>=0.3.0 in /usr/local/lib/python3.7/dist-packages (from folium) (0.5.0)\n",
            "Requirement already satisfied: MarkupSafe>=0.23 in /usr/local/lib/python3.7/dist-packages (from jinja2>=2.9->folium) (2.0.1)\n",
            "Requirement already satisfied: shapely in /usr/local/lib/python3.7/dist-packages (from osm2geojson) (1.8.4)\n",
            "Requirement already satisfied: pandas>=0.25.0 in /usr/local/lib/python3.7/dist-packages (from geopandas) (1.3.5)\n",
            "Collecting pyproj>=2.2.0\n",
            "  Downloading pyproj-3.2.1-cp37-cp37m-manylinux2010_x86_64.whl (6.3 MB)\n",
            "\u001b[K     |████████████████████████████████| 6.3 MB 30.0 MB/s \n",
            "\u001b[?25hCollecting fiona>=1.8\n",
            "  Downloading Fiona-1.8.21-cp37-cp37m-manylinux2014_x86_64.whl (16.7 MB)\n",
            "\u001b[K     |████████████████████████████████| 16.7 MB 44.5 MB/s \n",
            "\u001b[?25hRequirement already satisfied: setuptools in /usr/local/lib/python3.7/dist-packages (from fiona>=1.8->geopandas) (57.4.0)\n",
            "Collecting cligj>=0.5\n",
            "  Downloading cligj-0.7.2-py3-none-any.whl (7.1 kB)\n",
            "Requirement already satisfied: certifi in /usr/local/lib/python3.7/dist-packages (from fiona>=1.8->geopandas) (2022.6.15)\n",
            "Requirement already satisfied: attrs>=17 in /usr/local/lib/python3.7/dist-packages (from fiona>=1.8->geopandas) (22.1.0)\n",
            "Requirement already satisfied: click>=4.0 in /usr/local/lib/python3.7/dist-packages (from fiona>=1.8->geopandas) (7.1.2)\n",
            "Requirement already satisfied: six>=1.7 in /usr/local/lib/python3.7/dist-packages (from fiona>=1.8->geopandas) (1.15.0)\n",
            "Collecting munch\n",
            "  Downloading munch-2.5.0-py2.py3-none-any.whl (10 kB)\n",
            "Collecting click-plugins>=1.0\n",
            "  Downloading click_plugins-1.1.1-py2.py3-none-any.whl (7.5 kB)\n",
            "Requirement already satisfied: pytz>=2017.3 in /usr/local/lib/python3.7/dist-packages (from pandas>=0.25.0->geopandas) (2022.2.1)\n",
            "Requirement already satisfied: python-dateutil>=2.7.3 in /usr/local/lib/python3.7/dist-packages (from pandas>=0.25.0->geopandas) (2.8.2)\n",
            "Requirement already satisfied: urllib3!=1.25.0,!=1.25.1,<1.26,>=1.21.1 in /usr/local/lib/python3.7/dist-packages (from requests->folium) (1.24.3)\n",
            "Requirement already satisfied: idna<3,>=2.5 in /usr/local/lib/python3.7/dist-packages (from requests->folium) (2.10)\n",
            "Requirement already satisfied: chardet<4,>=3.0.2 in /usr/local/lib/python3.7/dist-packages (from requests->folium) (3.0.4)\n",
            "Building wheels for collected packages: osm2geojson\n",
            "  Building wheel for osm2geojson (setup.py) ... \u001b[?25l\u001b[?25hdone\n",
            "  Created wheel for osm2geojson: filename=osm2geojson-0.2.0-py3-none-any.whl size=13345 sha256=5c6a80ea1daf4c097fe196a318d220d3d6b061efd9c4ff1cd502c884b773c74b\n",
            "  Stored in directory: /root/.cache/pip/wheels/de/69/12/fe31a7e75bd52382aabbeac95e0137776e991f0a6f9295b170\n",
            "Successfully built osm2geojson\n",
            "Installing collected packages: munch, cligj, click-plugins, pyproj, fiona, osm2geojson, geopandas\n",
            "Successfully installed click-plugins-1.1.1 cligj-0.7.2 fiona-1.8.21 geopandas-0.10.2 munch-2.5.0 osm2geojson-0.2.0 pyproj-3.2.1\n"
          ]
        }
      ],
      "source": [
        "!pip install folium osm2geojson geopandas\n"
      ]
    },
    {
      "cell_type": "code",
      "source": [
        "import requests\n",
        "import json\n",
        "#Magyarország településhatárainak, megyehatárainak, a főváros kerületeinek határainak lekérése az OSM API-n keresztül\n",
        "overpass_url = \"http://overpass-api.de/api/interpreter\"\n",
        "overpass_query = \"\"\"\n",
        "    [out:json];\n",
        "    rel[\"wikipedia\"~\"^hu:\"]\n",
        "    [admin_level=8]\n",
        "    [type=boundary]\n",
        "    [name!~\"Balatonakarattya\"]\n",
        "    [boundary=administrative];\n",
        "    out geom;\n",
        "\n",
        "    rel[\"wikipedia\"~\"^hu:\"]\n",
        "    [admin_level=9]\n",
        "    [type=boundary]\n",
        "    [boundary=administrative];\n",
        "  \tout geom;\n",
        "    \"\"\"\n",
        "\n",
        "response = requests.get(overpass_url, params={'data': overpass_query})\n",
        "\n",
        "#Az API válasz lementése egy json fileba\n",
        "output = open(\"towns.json\", \"w\")\n",
        "json.dump(response.json(), output)\n",
        "output.close()\n",
        "\n",
        "######################################################################################################################\n",
        "\n",
        "overpass_query = \"\"\"\n",
        "    [out:json];\n",
        "    rel[\"ISO3166-2\"~\"^HU\"]\n",
        "    [admin_level=6]\n",
        "    [type=boundary]\n",
        "    [boundary=administrative];\n",
        "    out geom;\n",
        "    \"\"\"\n",
        "\n",
        "response = requests.get(overpass_url, params={'data': overpass_query})\n",
        "\n",
        "#Az API válasz lementése egy json fileba\n",
        "output = open(\"states.json\", \"w\")\n",
        "json.dump(response.json(), output)\n",
        "output.close()"
      ],
      "metadata": {
        "id": "8ybHBNnwoMfa"
      },
      "execution_count": 2,
      "outputs": []
    },
    {
      "cell_type": "code",
      "execution_count": 8,
      "metadata": {
        "id": "SFp0X_KIqIpa",
        "outputId": "d55b9250-1539-48eb-eb0d-bd0e5285898c",
        "colab": {
          "base_uri": "https://localhost:8080/"
        }
      },
      "outputs": [
        {
          "output_type": "stream",
          "name": "stderr",
          "text": [
            "/usr/local/lib/python3.7/dist-packages/osm2geojson/main.py:514: ShapelyDeprecationWarning: Iteration over multi-part geometries is deprecated and will be removed in Shapely 2.0. Use the `geoms` property to access the constituent parts of a multi-part geometry.\n",
            "  for line in merged_line:\n"
          ]
        }
      ],
      "source": [
        "import folium\n",
        "import osm2geojson\n",
        "\n",
        "#A térkép létrehozása foliumban, kezdeti koordináták, zoom-lehetőségek, térképvászon megadása, az attribútum kötelező külső vászon használata esetén\n",
        "m = folium.Map(location=[47.161, 19.505], zoom_start=7, min_zoom=7, maxBounds=[[40.000, 10.000], [60.000, 30.000]], tiles='https://{s}.basemaps.cartocdn.com/dark_nolabels/{z}/{x}/{y}{r}.png', attr=\"-\", prefer_canvas=True)\n",
        "\n",
        "style_function = lambda x: {'fillColor': '#000000', 'fillOpacity': 0.0, 'stroke': True, 'color': \"#fff\", 'weight': 2}\n",
        "data = json.load(open(\"states.json\", \"r\"))\n",
        "geojson = osm2geojson.json2geojson(data)\n",
        "\n",
        "g = folium.GeoJson(geojson, name='geojson', style_function=style_function, smooth_factor=2.0, embed=False).add_to(m)\n",
        "\n",
        "style_function = lambda x: {'fillColor': '#000000', 'fillOpacity': 0.0, 'stroke': True, 'color': \"#fff\", 'weight': 0.5}\n",
        "#A korábban kapott json fájl geojson formátumba való átalakítása\n",
        "data = json.load(open(\"towns.json\", \"r\"))\n",
        "geojson = osm2geojson.json2geojson(data)\n",
        "\n",
        "g = folium.GeoJson(geojson, name='geojson', style_function=style_function, smooth_factor=2.0, embed=False).add_to(m)\n",
        "\n",
        "fgs = [folium.FeatureGroup(name=\"Németek\", overlay=True, control=True, show=True).add_to(m), \n",
        "       folium.FeatureGroup(name=\"Szlovákok\", overlay=True, control=True, show=True).add_to(m),\n",
        "       folium.FeatureGroup(name=\"Románok\", overlay=True, control=True, show=True).add_to(m),\n",
        "       folium.FeatureGroup(name=\"Horvátok\", overlay=True, control=True, show=True).add_to(m),\n",
        "       folium.FeatureGroup(name=\"Szerbek\", overlay=True, control=True, show=True).add_to(m),\n",
        "       folium.FeatureGroup(name=\"Ukránok\", overlay=True, control=True, show=True).add_to(m),\n",
        "       folium.FeatureGroup(name=\"Szlovének\", overlay=True, control=True, show=True).add_to(m),\n",
        "       folium.FeatureGroup(name=\"Romák\", overlay=True, control=True, show=True).add_to(m),\n",
        "       folium.FeatureGroup(name=\"Egyéb nemzetiségek\", overlay=True, control=True, show=True).add_to(m)]\n"
      ]
    },
    {
      "cell_type": "code",
      "source": [
        "from shapely import geometry\n",
        "import random"
      ],
      "metadata": {
        "id": "AaWVeejvBkv7"
      },
      "execution_count": 4,
      "outputs": []
    },
    {
      "cell_type": "code",
      "source": [
        "def get_random_point_in_polygon(poly):\n",
        "  \n",
        "  minx, miny, maxx, maxy = poly.bounds\n",
        "  while True:\n",
        "       p = geometry.Point(random.uniform(minx, maxx), random.uniform(miny, maxy))\n",
        "       if poly.contains(p):\n",
        "          return p"
      ],
      "metadata": {
        "id": "ln_DK3lPF_Eh"
      },
      "execution_count": 5,
      "outputs": []
    },
    {
      "cell_type": "code",
      "source": [
        "import pandas as pd\n",
        "\n",
        "df = pd.read_csv(\"data_filtered.csv\", delimiter=\";\")\n",
        "\n",
        "nemzetisegek = [\"Német\", \"Szlovák\", \"Román\", \"Horvát\", \"Szerb\", \"Ukrán\", \"Szlovén\", \"Roma\", \"Egyéb\"]\n",
        "color_codes = [\"#FFF712\", \"#09EC8E\", \"#D57C1E\", \"#D57C1E\", \"#DC1111\", \"#0BF7FF\", \"#FF74E8\", \"#A2059D\", \"#1E9111\"]\n",
        "ev = 2011"
      ],
      "metadata": {
        "id": "CuTBGGftKOU5"
      },
      "execution_count": 6,
      "outputs": []
    },
    {
      "cell_type": "code",
      "source": [
        "for n in range(8):\n",
        "\n",
        "  nemzetiseg = nemzetisegek[n]\n",
        "  df2 = df[df[\"Év\"] == ev][df[\"Kategória\"] == \"A-N-H-K\"][[\"Település\", nemzetiseg]]\n",
        "  fill = color_codes[n]\n",
        "\n",
        "  for i in range(len(geojson['features'])):\n",
        "    poly = geometry.Polygon([[coord[0], coord[1]] for coord in geojson['features'][i]['geometry']['coordinates'][0][0]]) \n",
        "  \n",
        "    #adott megyén belül minden x (representation) főre generálódik egy pont\n",
        "    #representation = 10\n",
        "    try:\n",
        "    #if geojson['features'][i]['properties']['tags']['name'] in df['Település'].values:\n",
        "      popup = geojson['features'][i]['properties']['popup'] = \"<b>{0}</b>\".format(geojson['features'][i]['properties']['tags']['name']) + \": {0}\".format(int(df2[df2[\"Település\"] == geojson['features'][i]['properties']['tags']['name']][nemzetiseg]))\n",
        "    \n",
        "      for j in range(int(df2[df2[\"Település\"] == geojson['features'][i]['properties']['tags']['name']][nemzetiseg])): #// representation):\n",
        "        point = get_random_point_in_polygon(poly)\n",
        "        folium.Circle(location=[point.y, point.x], radius=10, fill_color=fill, fill_opacity=1.0, opacity=0.0).add_to(fgs[n])\n",
        "    except:\n",
        "      print(geojson['features'][i]['properties']['tags']['name'], df2[df2[\"Település\"] == geojson['features'][i]['properties']['tags']['name']][nemzetiseg])\n",
        "  \n",
        "  folium.features.GeoJsonTooltip(['popup'], labels=False).add_to(g)\n",
        "  g.add_to(fgs[n])\n",
        "\n",
        "folium.LayerControl(position='bottomleft').add_to(m)\n",
        "\n",
        "m.save(outfile=\"map.html\")"
      ],
      "metadata": {
        "id": "UlqlQESxHkaC",
        "outputId": "cca119f4-6375-43f4-f132-78efe057ecd5",
        "colab": {
          "base_uri": "https://localhost:8080/"
        }
      },
      "execution_count": 11,
      "outputs": [
        {
          "output_type": "stream",
          "name": "stderr",
          "text": [
            "/usr/local/lib/python3.7/dist-packages/ipykernel_launcher.py:4: UserWarning: Boolean Series key will be reindexed to match DataFrame index.\n",
            "  after removing the cwd from sys.path.\n"
          ]
        },
        {
          "output_type": "stream",
          "name": "stdout",
          "text": [
            "Óbánya Series([], Name: Német, dtype: int64)\n",
            "XXIII. kerület Series([], Name: Német, dtype: int64)\n",
            "Óbánya Series([], Name: Szlovák, dtype: int64)\n",
            "XXIII. kerület Series([], Name: Szlovák, dtype: int64)\n",
            "Óbánya Series([], Name: Román, dtype: int64)\n",
            "XXIII. kerület Series([], Name: Román, dtype: int64)\n",
            "Óbánya Series([], Name: Horvát, dtype: int64)\n",
            "XXIII. kerület Series([], Name: Horvát, dtype: int64)\n",
            "Óbánya Series([], Name: Szerb, dtype: int64)\n",
            "XXIII. kerület Series([], Name: Szerb, dtype: int64)\n",
            "Óbánya Series([], Name: Ukrán, dtype: int64)\n",
            "XXIII. kerület Series([], Name: Ukrán, dtype: int64)\n",
            "Óbánya Series([], Name: Szlovén, dtype: int64)\n",
            "XXIII. kerület Series([], Name: Szlovén, dtype: int64)\n",
            "Óbánya Series([], Name: Roma, dtype: int64)\n",
            "XXIII. kerület Series([], Name: Roma, dtype: int64)\n"
          ]
        }
      ]
    },
    {
      "cell_type": "code",
      "source": [
        "from google.colab import files\n",
        "files.download('map.html') "
      ],
      "metadata": {
        "id": "qQUeS2j0VY47",
        "outputId": "25a8070e-ad63-49af-a0d8-bcc6379197ab",
        "colab": {
          "base_uri": "https://localhost:8080/",
          "height": 17
        }
      },
      "execution_count": 12,
      "outputs": [
        {
          "output_type": "display_data",
          "data": {
            "text/plain": [
              "<IPython.core.display.Javascript object>"
            ],
            "application/javascript": [
              "\n",
              "    async function download(id, filename, size) {\n",
              "      if (!google.colab.kernel.accessAllowed) {\n",
              "        return;\n",
              "      }\n",
              "      const div = document.createElement('div');\n",
              "      const label = document.createElement('label');\n",
              "      label.textContent = `Downloading \"${filename}\": `;\n",
              "      div.appendChild(label);\n",
              "      const progress = document.createElement('progress');\n",
              "      progress.max = size;\n",
              "      div.appendChild(progress);\n",
              "      document.body.appendChild(div);\n",
              "\n",
              "      const buffers = [];\n",
              "      let downloaded = 0;\n",
              "\n",
              "      const channel = await google.colab.kernel.comms.open(id);\n",
              "      // Send a message to notify the kernel that we're ready.\n",
              "      channel.send({})\n",
              "\n",
              "      for await (const message of channel.messages) {\n",
              "        // Send a message to notify the kernel that we're ready.\n",
              "        channel.send({})\n",
              "        if (message.buffers) {\n",
              "          for (const buffer of message.buffers) {\n",
              "            buffers.push(buffer);\n",
              "            downloaded += buffer.byteLength;\n",
              "            progress.value = downloaded;\n",
              "          }\n",
              "        }\n",
              "      }\n",
              "      const blob = new Blob(buffers, {type: 'application/binary'});\n",
              "      const a = document.createElement('a');\n",
              "      a.href = window.URL.createObjectURL(blob);\n",
              "      a.download = filename;\n",
              "      div.appendChild(a);\n",
              "      a.click();\n",
              "      div.remove();\n",
              "    }\n",
              "  "
            ]
          },
          "metadata": {}
        },
        {
          "output_type": "display_data",
          "data": {
            "text/plain": [
              "<IPython.core.display.Javascript object>"
            ],
            "application/javascript": [
              "download(\"download_e499ef37-be4a-44d4-82fd-2cfb048e7ec9\", \"map.html\", 688445453)"
            ]
          },
          "metadata": {}
        }
      ]
    }
  ]
}