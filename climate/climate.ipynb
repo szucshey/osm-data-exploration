{
  "nbformat": 4,
  "nbformat_minor": 0,
  "metadata": {
    "colab": {
      "provenance": [],
      "mount_file_id": "https://github.com/szucshey/osm-data-exploration/blob/main/climate/climate.ipynb",
      "authorship_tag": "ABX9TyMcjayK1D/IWBi4P1hDPQYs",
      "include_colab_link": true
    },
    "kernelspec": {
      "name": "python3",
      "display_name": "Python 3"
    },
    "language_info": {
      "name": "python"
    }
  },
  "cells": [
    {
      "cell_type": "markdown",
      "metadata": {
        "id": "view-in-github",
        "colab_type": "text"
      },
      "source": [
        "<a href=\"https://colab.research.google.com/github/szucshey/osm-data-exploration/blob/main/climate/climate.ipynb\" target=\"_parent\"><img src=\"https://colab.research.google.com/assets/colab-badge.svg\" alt=\"Open In Colab\"/></a>"
      ]
    },
    {
      "cell_type": "code",
      "execution_count": 1,
      "metadata": {
        "id": "nFPMzQKsHIha",
        "colab": {
          "base_uri": "https://localhost:8080/"
        },
        "outputId": "748a5c31-bb06-45fe-c9db-307a7635879e"
      },
      "outputs": [
        {
          "output_type": "stream",
          "name": "stdout",
          "text": [
            "\u001b[K     |████████████████████████████████| 59 kB 5.7 MB/s \n",
            "\u001b[K     |████████████████████████████████| 864 kB 54.2 MB/s \n",
            "\u001b[K     |████████████████████████████████| 1.0 MB 76.8 MB/s \n",
            "\u001b[K     |████████████████████████████████| 19.3 MB 609 kB/s \n",
            "\u001b[K     |████████████████████████████████| 6.3 MB 57.6 MB/s \n",
            "\u001b[K     |████████████████████████████████| 16.7 MB 44.4 MB/s \n",
            "\u001b[K     |████████████████████████████████| 46 kB 3.7 MB/s \n",
            "\u001b[K     |████████████████████████████████| 30.5 MB 1.2 MB/s \n",
            "\u001b[?25h"
          ]
        }
      ],
      "source": [
        "!pip install regionmask netCDF4 basemap --quiet"
      ]
    },
    {
      "cell_type": "code",
      "source": [
        "#import requests\n",
        "#import json\n",
        "#import osm2geojson\n",
        "#import geopandas as gpd\n",
        "import matplotlib.pyplot as plt\n",
        "from netCDF4 import Dataset\n",
        "import xarray as xr\n",
        "import regionmask\n",
        "import numpy as np\n",
        "import PIL\n",
        "from datetime import datetime, timedelta, date\n",
        "from mpl_toolkits.basemap import Basemap"
      ],
      "metadata": {
        "id": "H03yXY74KR19"
      },
      "execution_count": 2,
      "outputs": []
    },
    {
      "cell_type": "code",
      "source": [
        "overpass_url = \"http://overpass-api.de/api/interpreter\"\n",
        "overpass_query = \"\"\"\n",
        "    [out:json];\n",
        "    rel[\"ISO3166-1\"~\"^HU\"]\n",
        "    [admin_level=2]\n",
        "    [type=boundary]\n",
        "    [boundary=administrative];\n",
        "    out geom;\n",
        "    \"\"\"\n",
        "\n",
        "response = requests.get(overpass_url, params={'data': overpass_query})\n",
        "\n",
        "#Az API válasz lementése egy json fileba\n",
        "output = open(\"geojson.json\", \"w\")\n",
        "json.dump(response.json(), output)\n",
        "output.close()"
      ],
      "metadata": {
        "id": "jeKmvCcqLA9A"
      },
      "execution_count": null,
      "outputs": []
    },
    {
      "cell_type": "code",
      "source": [
        "data = json.load(open(\"geojson.json\", \"r\"))\n",
        "geojson = osm2geojson.json2geojson(data)\n",
        "gdf = gpd.GeoDataFrame.from_features(geojson)"
      ],
      "metadata": {
        "id": "DNsOvNQ_LXJC"
      },
      "execution_count": null,
      "outputs": []
    },
    {
      "cell_type": "code",
      "source": [
        "ds = Dataset(\"drive/MyDrive/climate/sliced_datasets/tg_ens_mean_0.1deg_reg_1950-1964_v25.0e.nc_sliced\")"
      ],
      "metadata": {
        "id": "wnwyqrlSdyJ9"
      },
      "execution_count": 3,
      "outputs": []
    },
    {
      "cell_type": "code",
      "source": [
        "ds = Dataset(\"drive/MyDrive/climate/sliced_datasets/tg_ens_mean_0.1deg_reg_1950-1964_v25.0e.nc_sliced\")\n",
        "\n",
        "lats = ds.variables['latitude'][:]\n",
        "lons = ds.variables['longitude'][:]\n",
        "dates = ds.variables['time'][:]\n",
        "rain = ds.variables['tg'][:]\n",
        "\n",
        "lon, lat = np.meshgrid(lons, lats)"
      ],
      "metadata": {
        "id": "SvmU2vdnHvYJ"
      },
      "execution_count": 4,
      "outputs": []
    },
    {
      "cell_type": "code",
      "source": [
        "#longitude=slice(15.96, 23.12), latitude=slice(45.55, 48.73))\n",
        "start_date = date(1950, 1, 1)\n",
        "\n",
        "for i in range(365):\n",
        "  end_date = start_date + timedelta(days=i)\n",
        "  y, m, d = end_date.strftime(\"%Y\"), end_date.strftime(\"%m\"), end_date.strftime(\"%d\")\n",
        "  end_date_str = y + \"-\" + m + \"-\" + d\n",
        "\n",
        "  map = Basemap(llcrnrlon=16.06, llcrnrlat=45.65, urcrnrlon=23.02, urcrnrlat=48.63, projection='merc', resolution='i')\n",
        "\n",
        "  x,y = map(lon, lat)\n",
        "  map.drawcountries()\n",
        "\n",
        "  plt.title(\"Napi átlag hőmérséklet: {0}\".format(end_date_str))\n",
        "\n",
        "  color_scheme = map.pcolormesh(x,y, np.squeeze(rain[i, :, :]), cmap='jet', vmin=-30, vmax=40)\n",
        "  color_bar = map.colorbar(color_scheme, location='right', pad='5%')\n",
        "  color_bar.set_label('Napi átlag hőmérséklet (°C)', labelpad=5)\n",
        "  plt.savefig(\"drive/MyDrive/climate/avg_temp_output/{0}.jpg\".format(i+1), dpi=80)\n",
        "  plt.clf()\n"
      ],
      "metadata": {
        "id": "6VRUUni2Vyja",
        "outputId": "48f4ef97-f55b-4161-e6dd-2b16f2f8b0c3",
        "colab": {
          "base_uri": "https://localhost:8080/",
          "height": 35
        }
      },
      "execution_count": null,
      "outputs": [
        {
          "output_type": "display_data",
          "data": {
            "text/plain": [
              "<Figure size 432x288 with 0 Axes>"
            ]
          },
          "metadata": {}
        }
      ]
    },
    {
      "cell_type": "code",
      "source": [
        "frames = []\n",
        "\n",
        "for i in range(len(dates)):\n",
        "  frame = PIL.Image.open(\"drive/MyDrive/climate/avg_temp_output/{0}.jpg\".format(str(i+1)))\n",
        "  frames.append(frame)\n",
        "\n",
        "frames[0].save('drive/MyDrive/climate/gifs/output.gif', \n",
        "               format='GIF',\n",
        "               append_images = frames[1: ], \n",
        "               save_all = True,\n",
        "               duration=20, loop=0)"
      ],
      "metadata": {
        "id": "18Ebn_MhyyFV"
      },
      "execution_count": null,
      "outputs": []
    },
    {
      "cell_type": "code",
      "source": [
        "import os\n"
      ],
      "metadata": {
        "id": "Jz-wuwM9FAu7"
      },
      "execution_count": null,
      "outputs": []
    },
    {
      "cell_type": "code",
      "source": [
        "dir = \"drive/MyDrive/climate\"\n",
        "for f in os.listdir(dir):\n",
        "  fname = os.path.join(dir, f)\n",
        "  if os.path.isfile(fname):\n",
        "    ds = xr.open_dataarray(fname)\n",
        "    ds = ds.sel(time=ds['time'], longitude=slice(15.96, 23.12), latitude=slice(45.55, 48.73))\n",
        "    ds.to_netcdf(\"drive/MyDrive/climate/sliced_datasets/{0}_sliced\".format(f))\n",
        "    #print(fname)"
      ],
      "metadata": {
        "id": "uMpJMoN5FRKf"
      },
      "execution_count": null,
      "outputs": []
    },
    {
      "cell_type": "code",
      "source": [],
      "metadata": {
        "id": "JLy1kIu2-5mA"
      },
      "execution_count": null,
      "outputs": []
    }
  ]
}