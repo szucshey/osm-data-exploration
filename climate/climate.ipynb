{
  "nbformat": 4,
  "nbformat_minor": 0,
  "metadata": {
    "colab": {
      "provenance": [],
      "mount_file_id": "https://github.com/szucshey/osm-data-exploration/blob/main/climate/climate.ipynb",
      "authorship_tag": "ABX9TyN7D+zJaHQaW54kiZ1vwlaL",
      "include_colab_link": true
    },
    "kernelspec": {
      "name": "python3",
      "display_name": "Python 3"
    },
    "language_info": {
      "name": "python"
    }
  },
  "cells": [
    {
      "cell_type": "markdown",
      "metadata": {
        "id": "view-in-github",
        "colab_type": "text"
      },
      "source": [
        "<a href=\"https://colab.research.google.com/github/szucshey/osm-data-exploration/blob/main/climate/climate.ipynb\" target=\"_parent\"><img src=\"https://colab.research.google.com/assets/colab-badge.svg\" alt=\"Open In Colab\"/></a>"
      ]
    },
    {
      "cell_type": "code",
      "execution_count": 1,
      "metadata": {
        "id": "nFPMzQKsHIha",
        "colab": {
          "base_uri": "https://localhost:8080/"
        },
        "outputId": "acc6142e-8542-48b0-fd15-8cdc0638f4fa"
      },
      "outputs": [
        {
          "output_type": "stream",
          "name": "stdout",
          "text": [
            "\u001b[K     |████████████████████████████████| 1.0 MB 7.6 MB/s \n",
            "\u001b[K     |████████████████████████████████| 59 kB 7.1 MB/s \n",
            "\u001b[K     |████████████████████████████████| 864 kB 43.7 MB/s \n",
            "\u001b[K     |████████████████████████████████| 16.7 MB 39.4 MB/s \n",
            "\u001b[K     |████████████████████████████████| 6.3 MB 37.5 MB/s \n",
            "\u001b[K     |████████████████████████████████| 19.3 MB 1.4 MB/s \n",
            "\u001b[K     |████████████████████████████████| 30.5 MB 190 kB/s \n",
            "\u001b[K     |████████████████████████████████| 46 kB 3.4 MB/s \n",
            "\u001b[?25h  Building wheel for osm2geojson (setup.py) ... \u001b[?25l\u001b[?25hdone\n"
          ]
        }
      ],
      "source": [
        "!pip install osm2geojson geopandas regionmask netCDF4 basemap --quiet"
      ]
    },
    {
      "cell_type": "code",
      "source": [
        "#import requests\n",
        "#import json\n",
        "#import osm2geojson\n",
        "#import geopandas as gpd\n",
        "import matplotlib.pyplot as plt\n",
        "from netCDF4 import Dataset\n",
        "import xarray as xr\n",
        "import regionmask\n",
        "import numpy as np\n",
        "import PIL\n",
        "from datetime import datetime, timedelta, date\n",
        "from mpl_toolkits.basemap import Basemap"
      ],
      "metadata": {
        "id": "H03yXY74KR19"
      },
      "execution_count": 2,
      "outputs": []
    },
    {
      "cell_type": "code",
      "source": [
        "overpass_url = \"http://overpass-api.de/api/interpreter\"\n",
        "overpass_query = \"\"\"\n",
        "    [out:json];\n",
        "    rel[\"ISO3166-1\"~\"^HU\"]\n",
        "    [admin_level=2]\n",
        "    [type=boundary]\n",
        "    [boundary=administrative];\n",
        "    out geom;\n",
        "    \"\"\"\n",
        "\n",
        "response = requests.get(overpass_url, params={'data': overpass_query})\n",
        "\n",
        "#Az API válasz lementése egy json fileba\n",
        "output = open(\"geojson.json\", \"w\")\n",
        "json.dump(response.json(), output)\n",
        "output.close()"
      ],
      "metadata": {
        "id": "jeKmvCcqLA9A"
      },
      "execution_count": 5,
      "outputs": []
    },
    {
      "cell_type": "code",
      "source": [
        "data = json.load(open(\"geojson.json\", \"r\"))\n",
        "geojson = osm2geojson.json2geojson(data)\n",
        "gdf = gpd.GeoDataFrame.from_features(geojson)"
      ],
      "metadata": {
        "id": "DNsOvNQ_LXJC"
      },
      "execution_count": 6,
      "outputs": []
    },
    {
      "cell_type": "code",
      "source": [
        "ds = Dataset(\"drive/MyDrive/climate/sliced_datasets/tg_ens_mean_0.1deg_reg_1950-1964_v25.0e.nc_sliced\")\n",
        "ds.variables"
      ],
      "metadata": {
        "id": "wnwyqrlSdyJ9",
        "colab": {
          "base_uri": "https://localhost:8080/"
        },
        "outputId": "d1f64ba0-6516-42a2-c93f-af9e24b997fb"
      },
      "execution_count": 3,
      "outputs": [
        {
          "output_type": "execute_result",
          "data": {
            "text/plain": [
              "{'longitude': <class 'netCDF4._netCDF4.Variable'>\n",
              " float64 longitude(longitude)\n",
              "     _FillValue: nan\n",
              "     units: degrees_east\n",
              "     long_name: Longitude values\n",
              "     axis: X\n",
              "     standard_name: longitude\n",
              " unlimited dimensions: \n",
              " current shape = (71,)\n",
              " filling on, 'latitude': <class 'netCDF4._netCDF4.Variable'>\n",
              " float64 latitude(latitude)\n",
              "     _FillValue: nan\n",
              "     units: degrees_north\n",
              "     long_name: Latitude values\n",
              "     axis: Y\n",
              "     standard_name: latitude\n",
              " unlimited dimensions: \n",
              " current shape = (31,)\n",
              " filling on, 'time': <class 'netCDF4._netCDF4.Variable'>\n",
              " int32 time(time)\n",
              "     long_name: Time in days\n",
              "     standard_name: time\n",
              "     cell_methods: time: mean\n",
              "     units: days since 1950-01-01\n",
              "     calendar: standard\n",
              " unlimited dimensions: \n",
              " current shape = (5479,)\n",
              " filling on, default _FillValue of -2147483647 used, 'tg': <class 'netCDF4._netCDF4.Variable'>\n",
              " int16 tg(time, latitude, longitude)\n",
              "     _FillValue: -9999\n",
              "     units: Celsius\n",
              "     long_name: mean temperature\n",
              "     standard_name: air_temperature\n",
              "     cell_methods: time: mean\n",
              "     add_offset: 0.0\n",
              "     scale_factor: 0.01\n",
              " unlimited dimensions: \n",
              " current shape = (5479, 31, 71)\n",
              " filling on}"
            ]
          },
          "metadata": {},
          "execution_count": 3
        }
      ]
    },
    {
      "cell_type": "code",
      "source": [
        "ds = Dataset(\"drive/MyDrive/climate/sliced_datasets/tg_ens_mean_0.1deg_reg_1950-1964_v25.0e.nc_sliced\")\n",
        "\n",
        "lats = ds.variables['latitude'][:]\n",
        "lons = ds.variables['longitude'][:]\n",
        "dates = ds.variables['time'][:]\n",
        "rain = ds.variables['tg'][:]\n",
        "\n",
        "lon, lat = np.meshgrid(lons, lats)"
      ],
      "metadata": {
        "id": "SvmU2vdnHvYJ"
      },
      "execution_count": 4,
      "outputs": []
    },
    {
      "cell_type": "code",
      "source": [
        "#longitude=slice(15.96, 23.12), latitude=slice(45.55, 48.73))\n",
        "start_date = date(1950, 1, 1)\n",
        "\n",
        "for i in range(365):\n",
        "  end_date = start_date + timedelta(days=i)\n",
        "  y, m, d = end_date.strftime(\"%Y\"), end_date.strftime(\"%m\"), end_date.strftime(\"%d\")\n",
        "  end_date_str = y + \"-\" + m + \"-\" + d\n",
        "\n",
        "  map = Basemap(llcrnrlon=16.06, llcrnrlat=45.65, urcrnrlon=23.02, urcrnrlat=48.63, projection='merc', resolution='i')\n",
        "\n",
        "  x,y = map(lon, lat)\n",
        "  map.drawcountries()\n",
        "\n",
        "  plt.title(\"Napi átlag hőmérséklet: {0}\".format(end_date_str))\n",
        "\n",
        "  color_scheme = map.pcolormesh(x,y, np.squeeze(rain[i, :, :]), cmap='jet', vmin=-30, vmax=40)\n",
        "  color_bar = map.colorbar(color_scheme, location='right', pad='5%')\n",
        "  color_bar.set_label('Napi átlag hőmérséklet (°C)', labelpad=5)\n",
        "  plt.savefig(\"drive/MyDrive/climate/avg_temp_output/{0}.jpg\".format(i+1), dpi=80)\n",
        "  plt.clf()\n"
      ],
      "metadata": {
        "id": "6VRUUni2Vyja",
        "outputId": "48f4ef97-f55b-4161-e6dd-2b16f2f8b0c3",
        "colab": {
          "base_uri": "https://localhost:8080/",
          "height": 35
        }
      },
      "execution_count": 28,
      "outputs": [
        {
          "output_type": "display_data",
          "data": {
            "text/plain": [
              "<Figure size 432x288 with 0 Axes>"
            ]
          },
          "metadata": {}
        }
      ]
    },
    {
      "cell_type": "code",
      "source": [
        "frames = []\n",
        "\n",
        "for i in range(len(dates)):\n",
        "  frame = PIL.Image.open(\"drive/MyDrive/climate/avg_temp_output/{0}.jpg\".format(str(i+1)))\n",
        "  frames.append(frame)\n",
        "\n",
        "frames[0].save('drive/MyDrive/climate/gifs/output.gif', \n",
        "               format='GIF',\n",
        "               append_images = frames[1: ], \n",
        "               save_all = True,\n",
        "               duration=20, loop=0)"
      ],
      "metadata": {
        "id": "18Ebn_MhyyFV"
      },
      "execution_count": null,
      "outputs": []
    },
    {
      "cell_type": "code",
      "source": [
        "import os\n"
      ],
      "metadata": {
        "id": "Jz-wuwM9FAu7"
      },
      "execution_count": 1,
      "outputs": []
    },
    {
      "cell_type": "code",
      "source": [
        "dir = \"drive/MyDrive/climate\"\n",
        "for f in os.listdir(dir):\n",
        "  fname = os.path.join(dir, f)\n",
        "  if os.path.isfile(fname):\n",
        "    ds = xr.open_dataarray(fname)\n",
        "    ds = ds.sel(time=ds['time'], longitude=slice(15.96, 23.12), latitude=slice(45.55, 48.73))\n",
        "    ds.to_netcdf(\"drive/MyDrive/climate/sliced_datasets/{0}_sliced\".format(f))\n",
        "    #print(fname)"
      ],
      "metadata": {
        "id": "uMpJMoN5FRKf"
      },
      "execution_count": 18,
      "outputs": []
    },
    {
      "cell_type": "code",
      "source": [
        "start_date = date(1950, 1, 1)\n",
        "frames = []\n",
        "\n",
        "for i in range(len(dates)):\n",
        "  fig = plt.figure(figsize=(8,6))\n",
        "\n",
        "  end_date = start_date + timedelta(days=i)\n",
        "  y, m, d = end_date.strftime(\"%Y\"), end_date.strftime(\"%m\"), end_date.strftime(\"%d\")\n",
        "  end_date_str = y + \"-\" + m + \"-\" + d\n",
        "\n",
        "  map = Basemap(llcrnrlon=16.06, llcrnrlat=45.65, urcrnrlon=23.02, urcrnrlat=48.63, projection='merc', resolution='i')\n",
        "\n",
        "  x,y = map(lon, lat)\n",
        "  map.drawcountries()\n",
        "\n",
        "  plt.title(\"Napi átlag hőmérséklet: {0}\".format(end_date_str))\n",
        "\n",
        "  color_scheme = map.pcolormesh(x,y, np.squeeze(rain[i, :, :]), cmap='jet', vmin=-30, vmax=40)\n",
        "  color_bar = map.colorbar(color_scheme, location='right', pad='5%')\n",
        "  color_bar.set_label('Napi átlag hőmérséklet (°C)', labelpad=5)\n",
        "  #plt.savefig(\"drive/MyDrive/climate/avg_temp_output/{0}.jpg\".format(i+1), dpi=80)\n",
        "  draw = fig.canvas.draw()\n",
        "  \n",
        "  frame = PIL.Image.frombytes('RGB', fig.canvas.get_width_height(), fig.canvas.tostring_rgb())\n",
        "  frames.append(frame)\n",
        "\n",
        "  plt.close(fig)\n",
        "\n",
        "frames[0].save('drive/MyDrive/climate/gifs/temp_test-aaaaaaa.gif', \n",
        "               format='GIF',\n",
        "               append_images = frames[1: ], \n",
        "               save_all = True,\n",
        "               duration=20, loop=0)"
      ],
      "metadata": {
        "id": "wNJuJEedy8T9"
      },
      "execution_count": null,
      "outputs": []
    },
    {
      "cell_type": "code",
      "source": [],
      "metadata": {
        "id": "JLy1kIu2-5mA"
      },
      "execution_count": 21,
      "outputs": []
    }
  ]
}