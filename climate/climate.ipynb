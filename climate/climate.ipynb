{
  "nbformat": 4,
  "nbformat_minor": 0,
  "metadata": {
    "colab": {
      "provenance": [],
      "mount_file_id": "https://github.com/szucshey/osm-data-exploration/blob/main/climate/climate.ipynb",
      "authorship_tag": "ABX9TyOYULyFraLVZFEZckBsI7Fi",
      "include_colab_link": true
    },
    "kernelspec": {
      "name": "python3",
      "display_name": "Python 3"
    },
    "language_info": {
      "name": "python"
    }
  },
  "cells": [
    {
      "cell_type": "markdown",
      "metadata": {
        "id": "view-in-github",
        "colab_type": "text"
      },
      "source": [
        "<a href=\"https://colab.research.google.com/github/szucshey/osm-data-exploration/blob/main/climate/climate.ipynb\" target=\"_parent\"><img src=\"https://colab.research.google.com/assets/colab-badge.svg\" alt=\"Open In Colab\"/></a>"
      ]
    },
    {
      "cell_type": "code",
      "execution_count": 9,
      "metadata": {
        "id": "nFPMzQKsHIha"
      },
      "outputs": [],
      "source": [
        "!pip install netCDF4 basemap --quiet"
      ]
    },
    {
      "cell_type": "code",
      "source": [
        "import matplotlib.pyplot as plt\n",
        "from netCDF4 import Dataset\n",
        "import xarray as xr\n",
        "import numpy as np\n",
        "import PIL\n",
        "from datetime import datetime, timedelta, date\n",
        "from mpl_toolkits.basemap import Basemap\n",
        "import os"
      ],
      "metadata": {
        "id": "H03yXY74KR19"
      },
      "execution_count": null,
      "outputs": []
    },
    {
      "cell_type": "code",
      "source": [
        "ds = Dataset(\"drive/MyDrive/climate/sliced_datasets/tg_ens_mean_0.1deg_reg_1965-1979_v25.0e.nc_sliced\")\n",
        "\n",
        "lats = ds.variables['latitude'][:]\n",
        "lons = ds.variables['longitude'][:]\n",
        "dates = ds.variables['time'][:]\n",
        "rain = ds.variables['tg'][:]\n",
        "\n",
        "lon, lat = np.meshgrid(lons, lats)"
      ],
      "metadata": {
        "id": "SvmU2vdnHvYJ"
      },
      "execution_count": 10,
      "outputs": []
    },
    {
      "cell_type": "code",
      "source": [
        "#longitude=slice(15.96, 23.12), latitude=slice(45.55, 48.73))\n",
        "start_date = date(1965, 1, 1)\n",
        "\n",
        "days = 0\n",
        "\n",
        "for i in range(10):\n",
        "  end_date = start_date + timedelta(days=days)\n",
        "  y, m, d = end_date.strftime(\"%Y\"), end_date.strftime(\"%m\"), end_date.strftime(\"%d\")\n",
        "  end_date_str = y + \"-\" + m + \"-\" + d\n",
        "\n",
        "  map = Basemap(llcrnrlon=16.06, llcrnrlat=45.65, urcrnrlon=23.02, urcrnrlat=48.63, projection='merc', resolution='i')\n",
        "\n",
        "  x,y = map(lon, lat)\n",
        "  map.drawcountries()\n",
        "\n",
        "  plt.title(\"Napi átlag hőmérséklet: {0}\".format(end_date_str))\n",
        "\n",
        "  color_scheme = map.pcolormesh(x, y, np.squeeze(rain[i, :, :]), cmap='jet', vmin=-30, vmax=40)\n",
        "  color_bar = map.colorbar(color_scheme, location='right', pad='5%')\n",
        "  color_bar.set_label('Napi átlag hőmérséklet (°C)', labelpad=5)\n",
        "  plt.savefig(\"drive/MyDrive/climate/avg_temp/{0}.jpg\".format(days), dpi=300)\n",
        "  plt.clf()\n",
        "  days += 1\n"
      ],
      "metadata": {
        "id": "6VRUUni2Vyja",
        "outputId": "00b4260f-3c57-42db-ade9-c98033a8407f",
        "colab": {
          "base_uri": "https://localhost:8080/",
          "height": 35
        }
      },
      "execution_count": 35,
      "outputs": [
        {
          "output_type": "display_data",
          "data": {
            "text/plain": [
              "<Figure size 432x288 with 0 Axes>"
            ]
          },
          "metadata": {}
        }
      ]
    },
    {
      "cell_type": "code",
      "source": [
        "frames = []\n",
        "\n",
        "for i in range(1000, 10000):\n",
        "  frame = PIL.Image.open(\"drive/MyDrive/climate/avg_temp/{0}.jpg\".format(str(i+1)))\n",
        "  frames.append(frame)\n",
        "\n",
        "frames[0].save('drive/MyDrive/climate/gifs/output-temp2.gif', \n",
        "               format='GIF',\n",
        "               append_images = frames[1: ], \n",
        "               save_all = True,\n",
        "               duration=20, loop=0)"
      ],
      "metadata": {
        "id": "18Ebn_MhyyFV"
      },
      "execution_count": null,
      "outputs": []
    },
    {
      "cell_type": "code",
      "source": [
        "dir = \"drive/MyDrive/climate\"\n",
        "for f in os.listdir(dir):\n",
        "  fname = os.path.join(dir, f)\n",
        "  if os.path.isfile(fname):\n",
        "    ds = xr.open_dataarray(fname)\n",
        "    ds = ds.sel(time=ds['time'], longitude=slice(15.96, 23.12), latitude=slice(45.55, 48.73))\n",
        "    ds.to_netcdf(\"drive/MyDrive/climate/sliced_datasets/{0}_sliced\".format(f))\n",
        "    #print(fname)"
      ],
      "metadata": {
        "id": "uMpJMoN5FRKf"
      },
      "execution_count": null,
      "outputs": []
    },
    {
      "cell_type": "code",
      "source": [],
      "metadata": {
        "id": "-f4Bk5QqIBmw"
      },
      "execution_count": null,
      "outputs": []
    }
  ]
}