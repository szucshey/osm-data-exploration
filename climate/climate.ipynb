{
  "nbformat": 4,
  "nbformat_minor": 0,
  "metadata": {
    "colab": {
      "provenance": [],
      "mount_file_id": "https://github.com/szucshey/osm-data-exploration/blob/main/climate/climate.ipynb",
      "authorship_tag": "ABX9TyMU46+/al3rqqu2hWl1ppKt",
      "include_colab_link": true
    },
    "kernelspec": {
      "name": "python3",
      "display_name": "Python 3"
    },
    "language_info": {
      "name": "python"
    }
  },
  "cells": [
    {
      "cell_type": "markdown",
      "metadata": {
        "id": "view-in-github",
        "colab_type": "text"
      },
      "source": [
        "<a href=\"https://colab.research.google.com/github/szucshey/osm-data-exploration/blob/main/climate/climate.ipynb\" target=\"_parent\"><img src=\"https://colab.research.google.com/assets/colab-badge.svg\" alt=\"Open In Colab\"/></a>"
      ]
    },
    {
      "cell_type": "code",
      "execution_count": 30,
      "metadata": {
        "id": "nFPMzQKsHIha"
      },
      "outputs": [],
      "source": [
        "!pip install osm2geojson geopandas regionmask netCDF4 basemap --quiet"
      ]
    },
    {
      "cell_type": "code",
      "source": [
        "import folium\n",
        "import requests\n",
        "import json\n",
        "import osm2geojson\n",
        "import geopandas as gpd\n",
        "import matplotlib.pyplot as plt\n",
        "from netCDF4 import Dataset\n",
        "import xarray as xr\n",
        "import regionmask\n",
        "import numpy as np\n",
        "import PIL\n",
        "from datetime import datetime, timedelta, date\n",
        "from mpl_toolkits.basemap import Basemap"
      ],
      "metadata": {
        "id": "H03yXY74KR19"
      },
      "execution_count": 31,
      "outputs": []
    },
    {
      "cell_type": "code",
      "source": [
        "overpass_url = \"http://overpass-api.de/api/interpreter\"\n",
        "overpass_query = \"\"\"\n",
        "    [out:json];\n",
        "    rel[\"ISO3166-1\"~\"^HU\"]\n",
        "    [admin_level=2]\n",
        "    [type=boundary]\n",
        "    [boundary=administrative];\n",
        "    out geom;\n",
        "    \"\"\"\n",
        "\n",
        "response = requests.get(overpass_url, params={'data': overpass_query})\n",
        "\n",
        "#Az API válasz lementése egy json fileba\n",
        "output = open(\"geojson.json\", \"w\")\n",
        "json.dump(response.json(), output)\n",
        "output.close()"
      ],
      "metadata": {
        "id": "jeKmvCcqLA9A"
      },
      "execution_count": 33,
      "outputs": []
    },
    {
      "cell_type": "code",
      "source": [
        "data = json.load(open(\"geojson.json\", \"r\"))\n",
        "geojson = osm2geojson.json2geojson(data)\n",
        "gdf = gpd.GeoDataFrame.from_features(geojson)"
      ],
      "metadata": {
        "id": "DNsOvNQ_LXJC"
      },
      "execution_count": 34,
      "outputs": []
    },
    {
      "cell_type": "code",
      "source": [
        "ds = xr.open_dataarray(\"drive/MyDrive/climate/rr_ens_mean_0.1deg_reg_1950-1964_v25.0e.nc\")\n",
        "ds = ds.sel(time=ds['time'], longitude=slice(15.96, 23.12), latitude=slice(45.55, 48.73))\n",
        "ds.to_netcdf(\"sliced_dataset.nc\")"
      ],
      "metadata": {
        "id": "wnwyqrlSdyJ9"
      },
      "execution_count": 36,
      "outputs": []
    },
    {
      "cell_type": "code",
      "source": [
        "ds_test = Dataset(\"sliced_dataset.nc\")\n",
        "\n",
        "lats = ds_test.variables['latitude'][:]\n",
        "lons = ds_test.variables['longitude'][:]\n",
        "dates = ds_test.variables['time'][:]\n",
        "rain = ds_test.variables['rr'][:]\n",
        "\n",
        "lon, lat = np.meshgrid(lons, lats)"
      ],
      "metadata": {
        "id": "SvmU2vdnHvYJ"
      },
      "execution_count": 38,
      "outputs": []
    },
    {
      "cell_type": "code",
      "source": [
        "#longitude=slice(15.96, 23.12), latitude=slice(45.55, 48.73))\n",
        "start_date = date(1950, 1, 1)\n",
        "\n",
        "for i in range(1852, len(dates)):\n",
        "  end_date = start_date + timedelta(days=i)\n",
        "  y, m, d = end_date.strftime(\"%Y\"), end_date.strftime(\"%m\"), end_date.strftime(\"%d\")\n",
        "  end_date_str = y + \"-\" + m + \"-\" + d\n",
        "\n",
        "  map = Basemap(llcrnrlon=16.06, llcrnrlat=45.65, urcrnrlon=23.02, urcrnrlat=48.63, projection='merc', resolution='i')\n",
        "\n",
        "  x,y = map(lon, lat)\n",
        "  map.drawcountries()\n",
        "\n",
        "  plt.title(\"Csapadék mennyiség: {0}\".format(end_date_str))\n",
        "\n",
        "  color_scheme = map.pcolormesh(x,y, np.squeeze(rain[i, :, :]), cmap='cubehelix_r', vmin=0, vmax=100)\n",
        "  color_bar = map.colorbar(color_scheme, location='right', pad='5%')\n",
        "  color_bar.set_label('Csapadék mennyisége (mm)', labelpad=5)\n",
        "  plt.savefig(\"drive/MyDrive/climate/test_output/{0}.jpg\".format(i+1), dpi=80)\n",
        "  plt.clf()\n"
      ],
      "metadata": {
        "id": "6VRUUni2Vyja",
        "outputId": "6dd0d913-8c27-4d4d-be42-23a7117a8b74",
        "colab": {
          "base_uri": "https://localhost:8080/",
          "height": 34
        }
      },
      "execution_count": 41,
      "outputs": [
        {
          "output_type": "display_data",
          "data": {
            "text/plain": [
              "<Figure size 432x288 with 0 Axes>"
            ]
          },
          "metadata": {}
        }
      ]
    },
    {
      "cell_type": "code",
      "source": [
        "frames = []\n",
        "\n",
        "for i in range(len(dates)):\n",
        "  frame = PIL.Image.open(\"drive/MyDrive/climate/test_output/{0}.jpg\".format(str(i+1)))\n",
        "  frames.append(frame)\n",
        "\n",
        "frames[0].save('drive/MyDrive/climate/gifs/test.gif', \n",
        "               format='GIF',\n",
        "               append_images = frames[1: ], \n",
        "               save_all = True,\n",
        "               duration=10, loop=0)"
      ],
      "metadata": {
        "id": "18Ebn_MhyyFV"
      },
      "execution_count": 44,
      "outputs": []
    }
  ]
}