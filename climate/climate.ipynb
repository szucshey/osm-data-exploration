{
  "nbformat": 4,
  "nbformat_minor": 0,
  "metadata": {
    "colab": {
      "provenance": [],
      "mount_file_id": "https://github.com/szucshey/osm-data-exploration/blob/main/climate/climate.ipynb",
      "authorship_tag": "ABX9TyNMcjDzNlj6Rr2gcshf5NwZ",
      "include_colab_link": true
    },
    "kernelspec": {
      "name": "python3",
      "display_name": "Python 3"
    },
    "language_info": {
      "name": "python"
    }
  },
  "cells": [
    {
      "cell_type": "markdown",
      "metadata": {
        "id": "view-in-github",
        "colab_type": "text"
      },
      "source": [
        "<a href=\"https://colab.research.google.com/github/szucshey/osm-data-exploration/blob/main/climate/climate.ipynb\" target=\"_parent\"><img src=\"https://colab.research.google.com/assets/colab-badge.svg\" alt=\"Open In Colab\"/></a>"
      ]
    },
    {
      "cell_type": "code",
      "execution_count": 3,
      "metadata": {
        "id": "nFPMzQKsHIha"
      },
      "outputs": [],
      "source": [
        "!pip install folium osm2geojson geopandas regionmask --quiet"
      ]
    },
    {
      "cell_type": "code",
      "source": [
        "import folium\n",
        "import requests\n",
        "import json\n",
        "import osm2geojson\n",
        "import geopandas as gpd\n",
        "import matplotlib.pyplot as plt\n",
        "from netCDF4 import Dataset"
      ],
      "metadata": {
        "id": "H03yXY74KR19"
      },
      "execution_count": 4,
      "outputs": []
    },
    {
      "cell_type": "code",
      "source": [
        "overpass_url = \"http://overpass-api.de/api/interpreter\"\n",
        "overpass_query = \"\"\"\n",
        "    [out:json];\n",
        "    rel[\"ISO3166-1\"~\"^HU\"]\n",
        "    [admin_level=2]\n",
        "    [type=boundary]\n",
        "    [boundary=administrative];\n",
        "    out geom;\n",
        "    \"\"\"\n",
        "\n",
        "response = requests.get(overpass_url, params={'data': overpass_query})\n",
        "\n",
        "#Az API válasz lementése egy json fileba\n",
        "output = open(\"geojson.json\", \"w\")\n",
        "json.dump(response.json(), output)\n",
        "output.close()"
      ],
      "metadata": {
        "id": "jeKmvCcqLA9A"
      },
      "execution_count": 5,
      "outputs": []
    },
    {
      "cell_type": "code",
      "source": [
        "data = json.load(open(\"geojson.json\", \"r\"))\n",
        "geojson = osm2geojson.json2geojson(data)\n",
        "\n",
        "#m = folium.Map(location=[47.161, 19.505], zoom_start=8, min_zoom=7, maxBounds=[[40.000, 10.000], [60.000, 30.000]], tiles=None, attr=\"\", prefer_canvas=True, overlay=True)\n",
        "#m.add_child(folium.GeoJson(geojson, name='geojson'))\n",
        "\n",
        "#m"
      ],
      "metadata": {
        "id": "DNsOvNQ_LXJC"
      },
      "execution_count": 6,
      "outputs": []
    },
    {
      "cell_type": "code",
      "source": [
        "gdf = gpd.GeoDataFrame.from_features(geojson)"
      ],
      "metadata": {
        "id": "4d5LTHBZL9NV"
      },
      "execution_count": 7,
      "outputs": []
    },
    {
      "cell_type": "code",
      "source": [
        "import xarray as xr\n",
        "import regionmask\n",
        "import numpy as np\n",
        "\n",
        "#lon = np.arange(15, 24)\n",
        "#lat = np.arange(45, 50)\n",
        "\n",
        "#mask = regionmask.mask_geopandas(gdf, lon, lat)\n",
        "ds = xr.open_dataarray(\"drive/MyDrive/climate/rr_ens_mean_0.1deg_reg_1950-1964_v25.0e.nc\")\n",
        "ds = ds.sel(time=ds['time'], longitude=slice(15.96, 23.12), latitude=slice(45.55, 48.73))\n",
        "ds.to_netcdf(\"test2.nc\")\n",
        "\n",
        "mask = regionmask.Regions(gdf['geometry'])\n",
        "mask = mask.mask(ds, lat_name = 'latitude', lon_name = 'longitude')\n",
        "#mask1\n",
        "#mask.to_netcdf(\"teszt.nc\")\n",
        "\n",
        "masked_nc = xr.open_dataarray(\"teszt.nc\")\n"
      ],
      "metadata": {
        "id": "wnwyqrlSdyJ9"
      },
      "execution_count": 71,
      "outputs": []
    },
    {
      "cell_type": "code",
      "source": [
        "#ds = xr.open_dataarray(\"rr_ens_mean_0.1deg_reg_1950-1964_v25.0e.nc\")\n",
        "shape = ds.where(masked_nc == 0)\n",
        "shape.to_netcdf(\"test2.nc\")\n",
        "shape[153, :, :].plot()\n",
        "#ds.isel(time = 160).plot(xlim=[-25,43], ylim=[30,72])\n",
        "#ds[5478, :, :].plot()"
      ],
      "metadata": {
        "id": "x7ZO0b3Wnrt4",
        "outputId": "cd4ad0d6-e4e5-4750-8ddf-b3f1136a155c",
        "colab": {
          "base_uri": "https://localhost:8080/",
          "height": 325
        }
      },
      "execution_count": 9,
      "outputs": [
        {
          "output_type": "execute_result",
          "data": {
            "text/plain": [
              "<matplotlib.collections.QuadMesh at 0x7f8a32cab990>"
            ]
          },
          "metadata": {},
          "execution_count": 9
        },
        {
          "output_type": "display_data",
          "data": {
            "text/plain": [
              "<Figure size 432x288 with 2 Axes>"
            ],
            "image/png": "[encoded data removed]"
          },
          "metadata": {
            "needs_background": "light"
          }
        }
      ]
    },
    {
      "cell_type": "code",
      "source": [
        "import PIL\n",
        "from datetime import datetime, timedelta, date"
      ],
      "metadata": {
        "id": "3bOJ4q34aYtW"
      },
      "execution_count": 98,
      "outputs": []
    },
    {
      "cell_type": "code",
      "source": [
        "for i in range(10):\n",
        "  plt.show(shape[i, :, :])\n",
        "  #plot.savefig(\"drive/MyDrive/climate/test_output/{0}.jpg\".format(str(i)))"
      ],
      "metadata": {
        "id": "CCBSWkQc8Yh_",
        "outputId": "c2849cef-b585-4a65-cf74-f63736d299cf",
        "colab": {
          "base_uri": "https://localhost:8080/",
          "height": 345
        }
      },
      "execution_count": 37,
      "outputs": [
        {
          "output_type": "error",
          "ename": "ValueError",
          "evalue": "ignored",
          "traceback": [
            "\u001b[0;31m---------------------------------------------------------------------------\u001b[0m",
            "\u001b[0;31mValueError\u001b[0m                                Traceback (most recent call last)",
            "\u001b[0;32m<ipython-input-37-766f8623ff65>\u001b[0m in \u001b[0;36m<module>\u001b[0;34m\u001b[0m\n\u001b[1;32m      1\u001b[0m \u001b[0;32mfor\u001b[0m \u001b[0mi\u001b[0m \u001b[0;32min\u001b[0m \u001b[0mrange\u001b[0m\u001b[0;34m(\u001b[0m\u001b[0;36m10\u001b[0m\u001b[0;34m)\u001b[0m\u001b[0;34m:\u001b[0m\u001b[0;34m\u001b[0m\u001b[0;34m\u001b[0m\u001b[0m\n\u001b[0;32m----> 2\u001b[0;31m   \u001b[0mplt\u001b[0m\u001b[0;34m.\u001b[0m\u001b[0mshow\u001b[0m\u001b[0;34m(\u001b[0m\u001b[0mshape\u001b[0m\u001b[0;34m[\u001b[0m\u001b[0mi\u001b[0m\u001b[0;34m,\u001b[0m \u001b[0;34m:\u001b[0m\u001b[0;34m,\u001b[0m \u001b[0;34m:\u001b[0m\u001b[0;34m]\u001b[0m\u001b[0;34m)\u001b[0m\u001b[0;34m\u001b[0m\u001b[0;34m\u001b[0m\u001b[0m\n\u001b[0m\u001b[1;32m      3\u001b[0m   \u001b[0;31m#plot.savefig(\"drive/MyDrive/climate/test_output/{0}.jpg\".format(str(i)))\u001b[0m\u001b[0;34m\u001b[0m\u001b[0;34m\u001b[0m\u001b[0;34m\u001b[0m\u001b[0m\n",
            "\u001b[0;32m/usr/local/lib/python3.7/dist-packages/matplotlib/pyplot.py\u001b[0m in \u001b[0;36mshow\u001b[0;34m(*args, **kw)\u001b[0m\n\u001b[1;32m    270\u001b[0m     \"\"\"\n\u001b[1;32m    271\u001b[0m     \u001b[0;32mglobal\u001b[0m \u001b[0m_show\u001b[0m\u001b[0;34m\u001b[0m\u001b[0;34m\u001b[0m\u001b[0m\n\u001b[0;32m--> 272\u001b[0;31m     \u001b[0;32mreturn\u001b[0m \u001b[0m_show\u001b[0m\u001b[0;34m(\u001b[0m\u001b[0;34m*\u001b[0m\u001b[0margs\u001b[0m\u001b[0;34m,\u001b[0m \u001b[0;34m**\u001b[0m\u001b[0mkw\u001b[0m\u001b[0;34m)\u001b[0m\u001b[0;34m\u001b[0m\u001b[0;34m\u001b[0m\u001b[0m\n\u001b[0m\u001b[1;32m    273\u001b[0m \u001b[0;34m\u001b[0m\u001b[0m\n\u001b[1;32m    274\u001b[0m \u001b[0;34m\u001b[0m\u001b[0m\n",
            "\u001b[0;32m/usr/local/lib/python3.7/dist-packages/ipykernel/pylab/backend_inline.py\u001b[0m in \u001b[0;36mshow\u001b[0;34m(close, block)\u001b[0m\n\u001b[1;32m     47\u001b[0m         \u001b[0;31m# only call close('all') if any to close\u001b[0m\u001b[0;34m\u001b[0m\u001b[0;34m\u001b[0m\u001b[0;34m\u001b[0m\u001b[0m\n\u001b[1;32m     48\u001b[0m         \u001b[0;31m# close triggers gc.collect, which can be slow\u001b[0m\u001b[0;34m\u001b[0m\u001b[0;34m\u001b[0m\u001b[0;34m\u001b[0m\u001b[0m\n\u001b[0;32m---> 49\u001b[0;31m         \u001b[0;32mif\u001b[0m \u001b[0mclose\u001b[0m \u001b[0;32mand\u001b[0m \u001b[0mGcf\u001b[0m\u001b[0;34m.\u001b[0m\u001b[0mget_all_fig_managers\u001b[0m\u001b[0;34m(\u001b[0m\u001b[0;34m)\u001b[0m\u001b[0;34m:\u001b[0m\u001b[0;34m\u001b[0m\u001b[0;34m\u001b[0m\u001b[0m\n\u001b[0m\u001b[1;32m     50\u001b[0m             \u001b[0mmatplotlib\u001b[0m\u001b[0;34m.\u001b[0m\u001b[0mpyplot\u001b[0m\u001b[0;34m.\u001b[0m\u001b[0mclose\u001b[0m\u001b[0;34m(\u001b[0m\u001b[0;34m'all'\u001b[0m\u001b[0;34m)\u001b[0m\u001b[0;34m\u001b[0m\u001b[0;34m\u001b[0m\u001b[0m\n\u001b[1;32m     51\u001b[0m \u001b[0;34m\u001b[0m\u001b[0m\n",
            "\u001b[0;32m/usr/local/lib/python3.7/dist-packages/xarray/core/common.py\u001b[0m in \u001b[0;36m__bool__\u001b[0;34m(self)\u001b[0m\n\u001b[1;32m    134\u001b[0m \u001b[0;34m\u001b[0m\u001b[0m\n\u001b[1;32m    135\u001b[0m     \u001b[0;32mdef\u001b[0m \u001b[0m__bool__\u001b[0m\u001b[0;34m(\u001b[0m\u001b[0mself\u001b[0m\u001b[0;34m:\u001b[0m \u001b[0mAny\u001b[0m\u001b[0;34m)\u001b[0m \u001b[0;34m->\u001b[0m \u001b[0mbool\u001b[0m\u001b[0;34m:\u001b[0m\u001b[0;34m\u001b[0m\u001b[0;34m\u001b[0m\u001b[0m\n\u001b[0;32m--> 136\u001b[0;31m         \u001b[0;32mreturn\u001b[0m \u001b[0mbool\u001b[0m\u001b[0;34m(\u001b[0m\u001b[0mself\u001b[0m\u001b[0;34m.\u001b[0m\u001b[0mvalues\u001b[0m\u001b[0;34m)\u001b[0m\u001b[0;34m\u001b[0m\u001b[0;34m\u001b[0m\u001b[0m\n\u001b[0m\u001b[1;32m    137\u001b[0m \u001b[0;34m\u001b[0m\u001b[0m\n\u001b[1;32m    138\u001b[0m     \u001b[0;32mdef\u001b[0m \u001b[0m__float__\u001b[0m\u001b[0;34m(\u001b[0m\u001b[0mself\u001b[0m\u001b[0;34m:\u001b[0m \u001b[0mAny\u001b[0m\u001b[0;34m)\u001b[0m \u001b[0;34m->\u001b[0m \u001b[0mfloat\u001b[0m\u001b[0;34m:\u001b[0m\u001b[0;34m\u001b[0m\u001b[0;34m\u001b[0m\u001b[0m\n",
            "\u001b[0;31mValueError\u001b[0m: The truth value of an array with more than one element is ambiguous. Use a.any() or a.all()"
          ]
        }
      ]
    },
    {
      "cell_type": "code",
      "source": [
        "dates = ds.dims[0][:]\n",
        "dates"
      ],
      "metadata": {
        "id": "is65wXm2-H85",
        "outputId": "b2945223-c97e-4e4b-aa42-a6fbc28bee7e",
        "colab": {
          "base_uri": "https://localhost:8080/",
          "height": 35
        }
      },
      "execution_count": 18,
      "outputs": [
        {
          "output_type": "execute_result",
          "data": {
            "text/plain": [
              "'time'"
            ],
            "application/vnd.google.colaboratory.intrinsic+json": {
              "type": "string"
            }
          },
          "metadata": {},
          "execution_count": 18
        }
      ]
    },
    {
      "cell_type": "code",
      "source": [
        "pip install netCDF4"
      ],
      "metadata": {
        "id": "XGd3K62eHi5X",
        "outputId": "e60fd9d8-2b90-45f8-c3a8-9a6f5f57e2d8",
        "colab": {
          "base_uri": "https://localhost:8080/"
        }
      },
      "execution_count": 19,
      "outputs": [
        {
          "output_type": "stream",
          "name": "stdout",
          "text": [
            "Looking in indexes: https://pypi.org/simple, https://us-python.pkg.dev/colab-wheels/public/simple/\n",
            "Requirement already satisfied: netCDF4 in /usr/local/lib/python3.7/dist-packages (1.6.0)\n",
            "Requirement already satisfied: numpy>=1.9 in /usr/local/lib/python3.7/dist-packages (from netCDF4) (1.21.6)\n",
            "Requirement already satisfied: cftime in /usr/local/lib/python3.7/dist-packages (from netCDF4) (1.6.1)\n"
          ]
        }
      ]
    },
    {
      "cell_type": "code",
      "source": [
        "ds_test = Dataset(\"test2.nc\")\n",
        "\n",
        "lats = ds_test.variables['latitude'][:]\n",
        "lons = ds_test.variables['longitude'][:]\n",
        "dates = ds_test.variables['time'][:]\n",
        "rain = ds_test.variables['rr'][:]\n",
        "\n",
        "lon, lat = np.meshgrid(lons, lats)\n",
        "\n",
        "plt.show()\n"
      ],
      "metadata": {
        "id": "SvmU2vdnHvYJ"
      },
      "execution_count": 72,
      "outputs": []
    },
    {
      "cell_type": "code",
      "source": [
        "pip install basemap"
      ],
      "metadata": {
        "id": "QMNm4WitUkuV",
        "outputId": "85d82432-8cc0-491c-bcb8-33e1e8b4ceb0",
        "colab": {
          "base_uri": "https://localhost:8080/",
          "height": 485
        }
      },
      "execution_count": 16,
      "outputs": [
        {
          "output_type": "stream",
          "name": "stdout",
          "text": [
            "Looking in indexes: https://pypi.org/simple, https://us-python.pkg.dev/colab-wheels/public/simple/\n",
            "Collecting basemap\n",
            "  Downloading basemap-1.3.4-cp37-cp37m-manylinux1_x86_64.whl (864 kB)\n",
            "\u001b[K     |████████████████████████████████| 864 kB 8.3 MB/s \n",
            "\u001b[?25hCollecting basemap-data<1.4,>=1.3.2\n",
            "  Downloading basemap_data-1.3.2-py2.py3-none-any.whl (30.5 MB)\n",
            "\u001b[K     |████████████████████████████████| 30.5 MB 1.4 MB/s \n",
            "\u001b[?25hCollecting pyshp<2.4,>=1.2\n",
            "  Downloading pyshp-2.3.1-py2.py3-none-any.whl (46 kB)\n",
            "\u001b[K     |████████████████████████████████| 46 kB 4.6 MB/s \n",
            "\u001b[?25hRequirement already satisfied: matplotlib<3.6,>=1.5 in /usr/local/lib/python3.7/dist-packages (from basemap) (3.2.2)\n",
            "Requirement already satisfied: pyproj<3.4.0,>=1.9.3 in /usr/local/lib/python3.7/dist-packages (from basemap) (3.2.1)\n",
            "Requirement already satisfied: numpy<1.22,>=1.21 in /usr/local/lib/python3.7/dist-packages (from basemap) (1.21.6)\n",
            "Requirement already satisfied: pyparsing!=2.0.4,!=2.1.2,!=2.1.6,>=2.0.1 in /usr/local/lib/python3.7/dist-packages (from matplotlib<3.6,>=1.5->basemap) (3.0.9)\n",
            "Requirement already satisfied: python-dateutil>=2.1 in /usr/local/lib/python3.7/dist-packages (from matplotlib<3.6,>=1.5->basemap) (2.8.2)\n",
            "Requirement already satisfied: kiwisolver>=1.0.1 in /usr/local/lib/python3.7/dist-packages (from matplotlib<3.6,>=1.5->basemap) (1.4.4)\n",
            "Requirement already satisfied: cycler>=0.10 in /usr/local/lib/python3.7/dist-packages (from matplotlib<3.6,>=1.5->basemap) (0.11.0)\n",
            "Requirement already satisfied: typing-extensions in /usr/local/lib/python3.7/dist-packages (from kiwisolver>=1.0.1->matplotlib<3.6,>=1.5->basemap) (4.1.1)\n",
            "Requirement already satisfied: certifi in /usr/local/lib/python3.7/dist-packages (from pyproj<3.4.0,>=1.9.3->basemap) (2022.6.15)\n",
            "Requirement already satisfied: six>=1.5 in /usr/local/lib/python3.7/dist-packages (from python-dateutil>=2.1->matplotlib<3.6,>=1.5->basemap) (1.15.0)\n",
            "Installing collected packages: pyshp, basemap-data, basemap\n",
            "Successfully installed basemap-1.3.4 basemap-data-1.3.2 pyshp-2.3.1\n"
          ]
        },
        {
          "output_type": "display_data",
          "data": {
            "application/vnd.colab-display-data+json": {
              "pip_warning": {
                "packages": [
                  "mpl_toolkits"
                ]
              }
            }
          },
          "metadata": {}
        }
      ]
    },
    {
      "cell_type": "code",
      "source": [
        "from mpl_toolkits.basemap import Basemap"
      ],
      "metadata": {
        "id": "MB76md1PVCXM"
      },
      "execution_count": 18,
      "outputs": []
    },
    {
      "cell_type": "code",
      "source": [
        "#longitude=slice(15.96, 23.12), latitude=slice(45.55, 48.73))\n",
        "start_date = date(1950, 1, 1)\n",
        "\n",
        "for i in range(365):\n",
        "  end_date = start_date + timedelta(days=i)\n",
        "  y, m, d = end_date.strftime(\"%Y\"), end_date.strftime(\"%m\"), end_date.strftime(\"%d\")\n",
        "  end_date_str = y + \"-\" + m + \"-\" + d\n",
        "\n",
        "  map = Basemap(llcrnrlon=16.06, llcrnrlat=45.65, urcrnrlon=23.02, urcrnrlat=48.63, projection='merc', resolution='i')\n",
        "\n",
        "  x,y = map(lon, lat)\n",
        "  map.drawcountries()\n",
        "\n",
        "  plt.title(\"Csapadék mennyiség: {0}\".format(end_date_str))\n",
        "\n",
        "  color_scheme = map.pcolor(x,y, np.squeeze(rain[i, :, :]), cmap='BuPu')\n",
        "  color_bar = map.colorbar(color_scheme, location='right', pad='5%')\n",
        "  color_bar.set_label('Csapadék mennyisége (mm)', labelpad=5)\n",
        "  plt.clim(0, 80)\n",
        "  plt.savefig(\"drive/MyDrive/climate/test_output/{0}.jpg\".format(i+1), dpi=300)\n",
        "  plt.clf()\n"
      ],
      "metadata": {
        "id": "6VRUUni2Vyja",
        "outputId": "5460c0bf-9499-498c-de56-3842df54d97b",
        "colab": {
          "base_uri": "https://localhost:8080/",
          "height": 34
        }
      },
      "execution_count": 112,
      "outputs": [
        {
          "output_type": "display_data",
          "data": {
            "text/plain": [
              "<Figure size 432x288 with 0 Axes>"
            ]
          },
          "metadata": {}
        }
      ]
    },
    {
      "cell_type": "code",
      "source": [
        "\n",
        "end_date = start_date + timedelta(days=10)\n",
        "\n",
        "y, m, d = end_date.strftime(\"%Y\"), end_date.strftime(\"%m\"), end_date.strftime(\"%d\")\n",
        "\n",
        "end_date_str = y + \"-\" + m + \"-\" + d\n",
        "end_date_str"
      ],
      "metadata": {
        "id": "C8IddpdNXmKi",
        "outputId": "53490239-4d13-430f-e825-95a152de0f46",
        "colab": {
          "base_uri": "https://localhost:8080/",
          "height": 35
        }
      },
      "execution_count": 100,
      "outputs": [
        {
          "output_type": "execute_result",
          "data": {
            "text/plain": [
              "'1950-01-11'"
            ],
            "application/vnd.google.colaboratory.intrinsic+json": {
              "type": "string"
            }
          },
          "metadata": {},
          "execution_count": 100
        }
      ]
    },
    {
      "cell_type": "code",
      "source": [
        "frames = []\n",
        "\n",
        "for i in range(365):\n",
        "  frame = PIL.Image.open(\"drive/MyDrive/climate/test_output/{0}.jpg\".format(str(i+1)))\n",
        "  frames.append(frame)\n",
        "\n",
        "frames[0].save('drive/MyDrive/climate/test_output/test.gif', \n",
        "               format='GIF',\n",
        "               append_images = frames[1: ], \n",
        "               save_all = True,\n",
        "               duration=60, loop=0)"
      ],
      "metadata": {
        "id": "18Ebn_MhyyFV"
      },
      "execution_count": 115,
      "outputs": []
    }
  ]
}