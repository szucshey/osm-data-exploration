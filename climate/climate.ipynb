{
 "cells": [
  {
   "cell_type": "markdown",
   "metadata": {
    "colab_type": "text",
    "id": "view-in-github"
   },
   "source": [
    "<a href=\"https://colab.research.google.com/github/szucshey/osm-data-exploration/blob/main/climate/climate.ipynb\" target=\"_parent\"><img src=\"https://colab.research.google.com/assets/colab-badge.svg\" alt=\"Open In Colab\"/></a>"
   ]
  },
  {
   "cell_type": "code",
   "execution_count": 1,
   "metadata": {
    "colab": {
     "base_uri": "https://localhost:8080/"
    },
    "id": "nFPMzQKsHIha",
    "outputId": "961f23aa-e409-4c7e-f865-e2259555fb99"
   },
   "outputs": [],
   "source": [
    "!pip install netCDF4 basemap folium osm2geojson --quiet"
   ]
  },
  {
   "cell_type": "code",
   "execution_count": null,
   "metadata": {},
   "outputs": [],
   "source": [
    "#Only run when opened in colab\n",
    "!apt-get install subversion -qq\n",
    "!svn export https://github.com/szucshey/osm-data-exploration/trunk/climate/datasets\n",
    "!svn export https://github.com/szucshey/osm-data-exploration/trunk/climate/results"
   ]
  },
  {
   "cell_type": "code",
   "execution_count": 2,
   "metadata": {
    "id": "H03yXY74KR19"
   },
   "outputs": [
    {
     "name": "stderr",
     "output_type": "stream",
     "text": [
      "/home/szucshey/.local/lib/python3.8/site-packages/xarray/backends/cfgrib_.py:29: UserWarning: Failed to load cfgrib - most likely there is a problem accessing the ecCodes library. Try `import cfgrib` to get the full error message\n",
      "  warnings.warn(\n",
      "/usr/lib/python3/dist-packages/requests/__init__.py:89: RequestsDependencyWarning: urllib3 (1.26.12) or chardet (3.0.4) doesn't match a supported version!\n",
      "  warnings.warn(\"urllib3 ({}) or chardet ({}) doesn't match a supported \"\n"
     ]
    }
   ],
   "source": [
    "import matplotlib.pyplot as plt\n",
    "from netCDF4 import Dataset\n",
    "import xarray as xr\n",
    "import numpy as np\n",
    "import PIL\n",
    "from datetime import datetime, timedelta, date\n",
    "from mpl_toolkits.basemap import Basemap\n",
    "import os"
   ]
  },
  {
   "cell_type": "code",
   "execution_count": 3,
   "metadata": {
    "id": "SvmU2vdnHvYJ"
   },
   "outputs": [],
   "source": [
    "ds = Dataset(\"datasets/tg_ens_mean_0.1deg_reg_1965-1979_v25.0e.nc_sliced\")\n",
    "\n",
    "lats = ds.variables['latitude'][:]\n",
    "lons = ds.variables['longitude'][:]\n",
    "dates = ds.variables['time'][:]\n",
    "temp = ds.variables['tg'][:]\n",
    "\n",
    "lon, lat = np.meshgrid(lons, lats)"
   ]
  },
  {
   "cell_type": "code",
   "execution_count": 5,
   "metadata": {
    "colab": {
     "base_uri": "https://localhost:8080/",
     "height": 35
    },
    "id": "6VRUUni2Vyja",
    "outputId": "00b4260f-3c57-42db-ade9-c98033a8407f"
   },
   "outputs": [
    {
     "data": {
      "text/plain": [
       "<Figure size 640x480 with 0 Axes>"
      ]
     },
     "metadata": {},
     "output_type": "display_data"
    }
   ],
   "source": [
    "start_date = date(1965, 1, 1)\n",
    "\n",
    "days = 0\n",
    "\n",
    "for i in range(len(dates)):\n",
    "  end_date = start_date + timedelta(days=days)\n",
    "  y, m, d = end_date.strftime(\"%Y\"), end_date.strftime(\"%m\"), end_date.strftime(\"%d\")\n",
    "  end_date_str = y + \"-\" + m + \"-\" + d\n",
    "\n",
    "  map = Basemap(llcrnrlon=16.06, llcrnrlat=45.65, urcrnrlon=23.02, urcrnrlat=48.63, projection='merc', resolution='i')\n",
    "\n",
    "  x,y = map(lon, lat)\n",
    "  map.drawcountries()\n",
    "\n",
    "  plt.title(\"Napi átlag hőmérséklet: {0}\".format(end_date_str))\n",
    "\n",
    "  color_scheme = map.pcolormesh(x, y, np.squeeze(temp[i, :, :]), cmap='jet', vmin=-30, vmax=40)\n",
    "  color_bar = map.colorbar(color_scheme, location='right', pad='5%')\n",
    "  color_bar.set_label('Napi átlag hőmérséklet (°C)', labelpad=5)\n",
    "  plt.savefig(\"results/{0}.jpg\".format(days), dpi=300)\n",
    "  plt.clf()\n",
    "  days += 1"
   ]
  },
  {
   "cell_type": "code",
   "execution_count": null,
   "metadata": {
    "id": "18Ebn_MhyyFV"
   },
   "outputs": [],
   "source": [
    "frames = []\n",
    "\n",
    "for i in range(len(dates)):\n",
    "  frame = PIL.Image.open(\"results/{0}.jpg\".format(str(i+1)))\n",
    "  frames.append(frame)\n",
    "\n",
    "frames[0].save('results/output.gif', \n",
    "               format='GIF',\n",
    "               append_images = frames[1: ], \n",
    "               save_all = True,\n",
    "               duration=20, loop=0)"
   ]
  }
 ],
 "metadata": {
  "colab": {
   "authorship_tag": "ABX9TyNhGwYuHkrh0Vf0BSuv9JUj",
   "include_colab_link": true,
   "mount_file_id": "https://gist.github.com/szucshey/86f6f8e3ef6d4ba0bc6c160f9278125a#file-climate-ipynb",
   "provenance": []
  },
  "kernelspec": {
   "display_name": "Python 3 (ipykernel)",
   "language": "python",
   "name": "python3"
  },
  "language_info": {
   "codemirror_mode": {
    "name": "ipython",
    "version": 3
   },
   "file_extension": ".py",
   "mimetype": "text/x-python",
   "name": "python",
   "nbconvert_exporter": "python",
   "pygments_lexer": "ipython3",
   "version": "3.8.10"
  }
 },
 "nbformat": 4,
 "nbformat_minor": 1
}
